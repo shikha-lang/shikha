{
 "cells": [
  {
   "cell_type": "code",
   "execution_count": 4,
   "id": "ae6c3707",
   "metadata": {},
   "outputs": [],
   "source": [
    "import pandas as pd\n",
    "import numpy as np\n",
    "import os\n",
    "import matplotlib.pyplot as plt\n",
    "import seaborn as sns\n",
    "import scipy"
   ]
  },
  {
   "cell_type": "code",
   "execution_count": 5,
   "id": "b16c689a",
   "metadata": {},
   "outputs": [],
   "source": [
    "path = r'/Users/spathak/Instacart_Basket_Analysis'"
   ]
  },
  {
   "cell_type": "code",
   "execution_count": 6,
   "id": "11286e16",
   "metadata": {},
   "outputs": [],
   "source": [
    "#Importing Instacart_Basket_merged.pkl dataframe\n",
    "\n",
    "df_merge = pd.read_pickle(os.path.join(path, '02-Data','Prepared-Data','Instacart_Basket_merged.pkl'))"
   ]
  },
  {
   "cell_type": "code",
   "execution_count": 4,
   "id": "d3fcb163",
   "metadata": {},
   "outputs": [
    {
     "data": {
      "text/html": [
       "<div>\n",
       "<style scoped>\n",
       "    .dataframe tbody tr th:only-of-type {\n",
       "        vertical-align: middle;\n",
       "    }\n",
       "\n",
       "    .dataframe tbody tr th {\n",
       "        vertical-align: top;\n",
       "    }\n",
       "\n",
       "    .dataframe thead th {\n",
       "        text-align: right;\n",
       "    }\n",
       "</style>\n",
       "<table border=\"1\" class=\"dataframe\">\n",
       "  <thead>\n",
       "    <tr style=\"text-align: right;\">\n",
       "      <th></th>\n",
       "      <th>user_id</th>\n",
       "      <th>first_name</th>\n",
       "      <th>last_name</th>\n",
       "      <th>sex</th>\n",
       "      <th>STATE</th>\n",
       "      <th>age</th>\n",
       "      <th>date_joined</th>\n",
       "      <th>n_dependants</th>\n",
       "      <th>fam_status</th>\n",
       "      <th>income</th>\n",
       "      <th>...</th>\n",
       "      <th>busiest_day</th>\n",
       "      <th>busiest_days</th>\n",
       "      <th>busiest_period_of_day</th>\n",
       "      <th>max_order</th>\n",
       "      <th>loyalty_flag</th>\n",
       "      <th>mean_price</th>\n",
       "      <th>spending_flag</th>\n",
       "      <th>median_days</th>\n",
       "      <th>frequency_flag</th>\n",
       "      <th>_merge</th>\n",
       "    </tr>\n",
       "  </thead>\n",
       "  <tbody>\n",
       "    <tr>\n",
       "      <th>0</th>\n",
       "      <td>26711</td>\n",
       "      <td>Deborah</td>\n",
       "      <td>Esquivel</td>\n",
       "      <td>Female</td>\n",
       "      <td>Missouri</td>\n",
       "      <td>48</td>\n",
       "      <td>1/1/2017</td>\n",
       "      <td>3</td>\n",
       "      <td>married</td>\n",
       "      <td>165665</td>\n",
       "      <td>...</td>\n",
       "      <td>Regularly busy</td>\n",
       "      <td>Busiest_days</td>\n",
       "      <td>Most orders</td>\n",
       "      <td>9.0</td>\n",
       "      <td>New customer</td>\n",
       "      <td>8.205882</td>\n",
       "      <td>Low Spender</td>\n",
       "      <td>20.0</td>\n",
       "      <td>Regular customer</td>\n",
       "      <td>both</td>\n",
       "    </tr>\n",
       "    <tr>\n",
       "      <th>1</th>\n",
       "      <td>26711</td>\n",
       "      <td>Deborah</td>\n",
       "      <td>Esquivel</td>\n",
       "      <td>Female</td>\n",
       "      <td>Missouri</td>\n",
       "      <td>48</td>\n",
       "      <td>1/1/2017</td>\n",
       "      <td>3</td>\n",
       "      <td>married</td>\n",
       "      <td>165665</td>\n",
       "      <td>...</td>\n",
       "      <td>Regularly busy</td>\n",
       "      <td>Regular busy days</td>\n",
       "      <td>Most orders</td>\n",
       "      <td>9.0</td>\n",
       "      <td>New customer</td>\n",
       "      <td>8.205882</td>\n",
       "      <td>Low Spender</td>\n",
       "      <td>20.0</td>\n",
       "      <td>Regular customer</td>\n",
       "      <td>both</td>\n",
       "    </tr>\n",
       "    <tr>\n",
       "      <th>2</th>\n",
       "      <td>26711</td>\n",
       "      <td>Deborah</td>\n",
       "      <td>Esquivel</td>\n",
       "      <td>Female</td>\n",
       "      <td>Missouri</td>\n",
       "      <td>48</td>\n",
       "      <td>1/1/2017</td>\n",
       "      <td>3</td>\n",
       "      <td>married</td>\n",
       "      <td>165665</td>\n",
       "      <td>...</td>\n",
       "      <td>Regularly busy</td>\n",
       "      <td>Busiest_days</td>\n",
       "      <td>Most orders</td>\n",
       "      <td>9.0</td>\n",
       "      <td>New customer</td>\n",
       "      <td>8.205882</td>\n",
       "      <td>Low Spender</td>\n",
       "      <td>20.0</td>\n",
       "      <td>Regular customer</td>\n",
       "      <td>both</td>\n",
       "    </tr>\n",
       "    <tr>\n",
       "      <th>3</th>\n",
       "      <td>26711</td>\n",
       "      <td>Deborah</td>\n",
       "      <td>Esquivel</td>\n",
       "      <td>Female</td>\n",
       "      <td>Missouri</td>\n",
       "      <td>48</td>\n",
       "      <td>1/1/2017</td>\n",
       "      <td>3</td>\n",
       "      <td>married</td>\n",
       "      <td>165665</td>\n",
       "      <td>...</td>\n",
       "      <td>Regularly busy</td>\n",
       "      <td>Regular busy days</td>\n",
       "      <td>Most orders</td>\n",
       "      <td>9.0</td>\n",
       "      <td>New customer</td>\n",
       "      <td>8.205882</td>\n",
       "      <td>Low Spender</td>\n",
       "      <td>20.0</td>\n",
       "      <td>Regular customer</td>\n",
       "      <td>both</td>\n",
       "    </tr>\n",
       "    <tr>\n",
       "      <th>4</th>\n",
       "      <td>26711</td>\n",
       "      <td>Deborah</td>\n",
       "      <td>Esquivel</td>\n",
       "      <td>Female</td>\n",
       "      <td>Missouri</td>\n",
       "      <td>48</td>\n",
       "      <td>1/1/2017</td>\n",
       "      <td>3</td>\n",
       "      <td>married</td>\n",
       "      <td>165665</td>\n",
       "      <td>...</td>\n",
       "      <td>Regularly busy</td>\n",
       "      <td>Slowest_days</td>\n",
       "      <td>Most orders</td>\n",
       "      <td>9.0</td>\n",
       "      <td>New customer</td>\n",
       "      <td>8.205882</td>\n",
       "      <td>Low Spender</td>\n",
       "      <td>20.0</td>\n",
       "      <td>Regular customer</td>\n",
       "      <td>both</td>\n",
       "    </tr>\n",
       "  </tbody>\n",
       "</table>\n",
       "<p>5 rows × 34 columns</p>\n",
       "</div>"
      ],
      "text/plain": [
       "   user_id first_name last_name     sex     STATE  age date_joined  \\\n",
       "0    26711    Deborah  Esquivel  Female  Missouri   48    1/1/2017   \n",
       "1    26711    Deborah  Esquivel  Female  Missouri   48    1/1/2017   \n",
       "2    26711    Deborah  Esquivel  Female  Missouri   48    1/1/2017   \n",
       "3    26711    Deborah  Esquivel  Female  Missouri   48    1/1/2017   \n",
       "4    26711    Deborah  Esquivel  Female  Missouri   48    1/1/2017   \n",
       "\n",
       "   n_dependants fam_status  income  ...     busiest_day       busiest_days  \\\n",
       "0             3    married  165665  ...  Regularly busy       Busiest_days   \n",
       "1             3    married  165665  ...  Regularly busy  Regular busy days   \n",
       "2             3    married  165665  ...  Regularly busy       Busiest_days   \n",
       "3             3    married  165665  ...  Regularly busy  Regular busy days   \n",
       "4             3    married  165665  ...  Regularly busy       Slowest_days   \n",
       "\n",
       "   busiest_period_of_day  max_order  loyalty_flag  mean_price  spending_flag  \\\n",
       "0            Most orders        9.0  New customer    8.205882    Low Spender   \n",
       "1            Most orders        9.0  New customer    8.205882    Low Spender   \n",
       "2            Most orders        9.0  New customer    8.205882    Low Spender   \n",
       "3            Most orders        9.0  New customer    8.205882    Low Spender   \n",
       "4            Most orders        9.0  New customer    8.205882    Low Spender   \n",
       "\n",
       "   median_days    frequency_flag  _merge  \n",
       "0         20.0  Regular customer    both  \n",
       "1         20.0  Regular customer    both  \n",
       "2         20.0  Regular customer    both  \n",
       "3         20.0  Regular customer    both  \n",
       "4         20.0  Regular customer    both  \n",
       "\n",
       "[5 rows x 34 columns]"
      ]
     },
     "execution_count": 4,
     "metadata": {},
     "output_type": "execute_result"
    }
   ],
   "source": [
    "df_merge.head()"
   ]
  },
  {
   "cell_type": "code",
   "execution_count": 5,
   "id": "c06a4782",
   "metadata": {},
   "outputs": [
    {
     "data": {
      "text/plain": [
       "<AxesSubplot:>"
      ]
     },
     "execution_count": 5,
     "metadata": {},
     "output_type": "execute_result"
    },
    {
     "data": {
      "image/png": "[encoded data removed]",
      "text/plain": [
       "<Figure size 432x288 with 1 Axes>"
      ]
     },
     "metadata": {
      "needs_background": "light"
     },
     "output_type": "display_data"
    }
   ],
   "source": [
    "# creating bar chart\n",
    "df_merge['orders_day_of_week'].value_counts().plot.bar()"
   ]
  },
  {
   "cell_type": "code",
   "execution_count": 6,
   "id": "e0ae46a9",
   "metadata": {},
   "outputs": [
    {
     "data": {
      "text/plain": [
       "<AxesSubplot:>"
      ]
     },
     "execution_count": 6,
     "metadata": {},
     "output_type": "execute_result"
    },
    {
     "data": {
      "image/png": "[encoded data removed]",
      "text/plain": [
       "<Figure size 432x288 with 1 Axes>"
      ]
     },
     "metadata": {
      "needs_background": "light"
     },
     "output_type": "display_data"
    }
   ],
   "source": [
    "# creating bar chart by sorting\n",
    "df_merge['orders_day_of_week'].value_counts().sort_index().plot.bar()"
   ]
  },
  {
   "cell_type": "code",
   "execution_count": 7,
   "id": "d7cb8fbf",
   "metadata": {},
   "outputs": [
    {
     "data": {
      "text/plain": [
       "0.0    5827646\n",
       "1.0    5340072\n",
       "6.0    4224610\n",
       "5.0    3983382\n",
       "2.0    3976796\n",
       "3.0    3628691\n",
       "4.0    3583046\n",
       "Name: orders_day_of_week, dtype: int64"
      ]
     },
     "execution_count": 7,
     "metadata": {},
     "output_type": "execute_result"
    }
   ],
   "source": [
    "df_merge['orders_day_of_week'].value_counts()"
   ]
  },
  {
   "cell_type": "code",
   "execution_count": 8,
   "id": "4cbe75ad",
   "metadata": {},
   "outputs": [
    {
     "data": {
      "text/plain": [
       "0.0    5827646\n",
       "1.0    5340072\n",
       "2.0    3976796\n",
       "3.0    3628691\n",
       "4.0    3583046\n",
       "5.0    3983382\n",
       "6.0    4224610\n",
       "Name: orders_day_of_week, dtype: int64"
      ]
     },
     "execution_count": 8,
     "metadata": {},
     "output_type": "execute_result"
    }
   ],
   "source": [
    "df_merge['orders_day_of_week'].value_counts().sort_index()"
   ]
  },
  {
   "cell_type": "code",
   "execution_count": 27,
   "id": "44c8ea72",
   "metadata": {},
   "outputs": [
    {
     "data": {
      "image/png": "[encoded data removed]",
      "text/plain": [
       "<Figure size 432x288 with 1 Axes>"
      ]
     },
     "metadata": {
      "needs_background": "light"
     },
     "output_type": "display_data"
    }
   ],
   "source": [
    "# creating bar chart by different colors\n",
    "bar = df_merge['orders_day_of_week'].value_counts().plot.bar(color=['purple','red','orange','green','blue','yellow'])"
   ]
  },
  {
   "cell_type": "code",
   "execution_count": 28,
   "id": "cb5b3d8b",
   "metadata": {},
   "outputs": [],
   "source": [
    "bar.figure.savefig(os.path.join(path, '04-Analysis','Visualization', 'bar_orders_dow.png'))"
   ]
  },
  {
   "cell_type": "code",
   "execution_count": 15,
   "id": "014fa16f",
   "metadata": {},
   "outputs": [
    {
     "data": {
      "text/plain": [
       "<AxesSubplot:ylabel='Frequency'>"
      ]
     },
     "execution_count": 15,
     "metadata": {},
     "output_type": "execute_result"
    },
    {
     "data": {
      "image/png": "[encoded data removed]",
      "text/plain": [
       "<Figure size 432x288 with 1 Axes>"
      ]
     },
     "metadata": {
      "needs_background": "light"
     },
     "output_type": "display_data"
    }
   ],
   "source": [
    "# creating histogram\n",
    "df_merge['prices'].plot.hist(bins = 25)"
   ]
  },
  {
   "cell_type": "code",
   "execution_count": 16,
   "id": "783ac07d",
   "metadata": {},
   "outputs": [
    {
     "data": {
      "text/plain": [
       "count    3.032984e+07\n",
       "mean     1.197707e+01\n",
       "std      4.963641e+02\n",
       "min      1.000000e+00\n",
       "25%      4.200000e+00\n",
       "50%      7.400000e+00\n",
       "75%      1.130000e+01\n",
       "max      9.999900e+04\n",
       "Name: prices, dtype: float64"
      ]
     },
     "execution_count": 16,
     "metadata": {},
     "output_type": "execute_result"
    }
   ],
   "source": [
    "df_merge['prices'].describe()"
   ]
  },
  {
   "cell_type": "code",
   "execution_count": 17,
   "id": "c7aae776",
   "metadata": {},
   "outputs": [
    {
     "data": {
      "text/plain": [
       "11.97706915727709"
      ]
     },
     "execution_count": 17,
     "metadata": {},
     "output_type": "execute_result"
    }
   ],
   "source": [
    "df_merge['prices'].mean()"
   ]
  },
  {
   "cell_type": "code",
   "execution_count": 18,
   "id": "00a488db",
   "metadata": {},
   "outputs": [
    {
     "data": {
      "text/plain": [
       "7.4"
      ]
     },
     "execution_count": 18,
     "metadata": {},
     "output_type": "execute_result"
    }
   ],
   "source": [
    "df_merge['prices'].median()"
   ]
  },
  {
   "cell_type": "code",
   "execution_count": 19,
   "id": "a1c19bc5",
   "metadata": {},
   "outputs": [
    {
     "data": {
      "text/plain": [
       "99999.0"
      ]
     },
     "execution_count": 19,
     "metadata": {},
     "output_type": "execute_result"
    }
   ],
   "source": [
    "df_merge['prices'].max()"
   ]
  },
  {
   "cell_type": "code",
   "execution_count": 20,
   "id": "c6092e66",
   "metadata": {},
   "outputs": [
    {
     "data": {
      "text/plain": [
       "<AxesSubplot:xlabel='prices', ylabel='prices'>"
      ]
     },
     "execution_count": 20,
     "metadata": {},
     "output_type": "execute_result"
    },
    {
     "data": {
      "image/png": "[encoded data removed]",
      "text/plain": [
       "<Figure size 432x288 with 1 Axes>"
      ]
     },
     "metadata": {
      "needs_background": "light"
     },
     "output_type": "display_data"
    }
   ],
   "source": [
    "sns.scatterplot(x = 'prices', y = 'prices',data = df_merge)"
   ]
  },
  {
   "cell_type": "code",
   "execution_count": 21,
   "id": "cefab1df",
   "metadata": {},
   "outputs": [
    {
     "data": {
      "text/html": [
       "<div>\n",
       "<style scoped>\n",
       "    .dataframe tbody tr th:only-of-type {\n",
       "        vertical-align: middle;\n",
       "    }\n",
       "\n",
       "    .dataframe tbody tr th {\n",
       "        vertical-align: top;\n",
       "    }\n",
       "\n",
       "    .dataframe thead th {\n",
       "        text-align: right;\n",
       "    }\n",
       "</style>\n",
       "<table border=\"1\" class=\"dataframe\">\n",
       "  <thead>\n",
       "    <tr style=\"text-align: right;\">\n",
       "      <th></th>\n",
       "      <th>user_id</th>\n",
       "      <th>first_name</th>\n",
       "      <th>last_name</th>\n",
       "      <th>sex</th>\n",
       "      <th>STATE</th>\n",
       "      <th>age</th>\n",
       "      <th>date_joined</th>\n",
       "      <th>n_dependants</th>\n",
       "      <th>fam_status</th>\n",
       "      <th>income</th>\n",
       "      <th>...</th>\n",
       "      <th>busiest_day</th>\n",
       "      <th>busiest_days</th>\n",
       "      <th>busiest_period_of_day</th>\n",
       "      <th>max_order</th>\n",
       "      <th>loyalty_flag</th>\n",
       "      <th>mean_price</th>\n",
       "      <th>spending_flag</th>\n",
       "      <th>median_days</th>\n",
       "      <th>frequency_flag</th>\n",
       "      <th>_merge</th>\n",
       "    </tr>\n",
       "  </thead>\n",
       "  <tbody>\n",
       "    <tr>\n",
       "      <th>5226</th>\n",
       "      <td>117740</td>\n",
       "      <td>Lisa</td>\n",
       "      <td>Sparks</td>\n",
       "      <td>Female</td>\n",
       "      <td>Oregon</td>\n",
       "      <td>55</td>\n",
       "      <td>1/1/2017</td>\n",
       "      <td>1</td>\n",
       "      <td>married</td>\n",
       "      <td>292759</td>\n",
       "      <td>...</td>\n",
       "      <td>Regularly busy</td>\n",
       "      <td>Busiest_days</td>\n",
       "      <td>Most orders</td>\n",
       "      <td>85.0</td>\n",
       "      <td>Loyal customer</td>\n",
       "      <td>37.052165</td>\n",
       "      <td>High Spender</td>\n",
       "      <td>4.0</td>\n",
       "      <td>Frequent customer</td>\n",
       "      <td>both</td>\n",
       "    </tr>\n",
       "    <tr>\n",
       "      <th>9794</th>\n",
       "      <td>31590</td>\n",
       "      <td>Beverly</td>\n",
       "      <td>Sanford</td>\n",
       "      <td>Female</td>\n",
       "      <td>Montana</td>\n",
       "      <td>46</td>\n",
       "      <td>1/1/2017</td>\n",
       "      <td>0</td>\n",
       "      <td>single</td>\n",
       "      <td>154076</td>\n",
       "      <td>...</td>\n",
       "      <td>Regularly busy</td>\n",
       "      <td>Busiest_days</td>\n",
       "      <td>Aaverage orders</td>\n",
       "      <td>39.0</td>\n",
       "      <td>Regular customer</td>\n",
       "      <td>59.676655</td>\n",
       "      <td>High Spender</td>\n",
       "      <td>8.0</td>\n",
       "      <td>Frequent customer</td>\n",
       "      <td>both</td>\n",
       "    </tr>\n",
       "    <tr>\n",
       "      <th>26118</th>\n",
       "      <td>100958</td>\n",
       "      <td>Benjamin</td>\n",
       "      <td>Parsons</td>\n",
       "      <td>Male</td>\n",
       "      <td>North Dakota</td>\n",
       "      <td>18</td>\n",
       "      <td>1/2/2017</td>\n",
       "      <td>2</td>\n",
       "      <td>living with parents and siblings</td>\n",
       "      <td>113408</td>\n",
       "      <td>...</td>\n",
       "      <td>Busiest day</td>\n",
       "      <td>Busiest_days</td>\n",
       "      <td>Most orders</td>\n",
       "      <td>6.0</td>\n",
       "      <td>New customer</td>\n",
       "      <td>587.820779</td>\n",
       "      <td>High Spender</td>\n",
       "      <td>11.0</td>\n",
       "      <td>Regular customer</td>\n",
       "      <td>both</td>\n",
       "    </tr>\n",
       "    <tr>\n",
       "      <th>26119</th>\n",
       "      <td>100958</td>\n",
       "      <td>Benjamin</td>\n",
       "      <td>Parsons</td>\n",
       "      <td>Male</td>\n",
       "      <td>North Dakota</td>\n",
       "      <td>18</td>\n",
       "      <td>1/2/2017</td>\n",
       "      <td>2</td>\n",
       "      <td>living with parents and siblings</td>\n",
       "      <td>113408</td>\n",
       "      <td>...</td>\n",
       "      <td>Busiest day</td>\n",
       "      <td>Busiest_days</td>\n",
       "      <td>Most orders</td>\n",
       "      <td>6.0</td>\n",
       "      <td>New customer</td>\n",
       "      <td>587.820779</td>\n",
       "      <td>High Spender</td>\n",
       "      <td>11.0</td>\n",
       "      <td>Regular customer</td>\n",
       "      <td>both</td>\n",
       "    </tr>\n",
       "    <tr>\n",
       "      <th>26120</th>\n",
       "      <td>100958</td>\n",
       "      <td>Benjamin</td>\n",
       "      <td>Parsons</td>\n",
       "      <td>Male</td>\n",
       "      <td>North Dakota</td>\n",
       "      <td>18</td>\n",
       "      <td>1/2/2017</td>\n",
       "      <td>2</td>\n",
       "      <td>living with parents and siblings</td>\n",
       "      <td>113408</td>\n",
       "      <td>...</td>\n",
       "      <td>Regularly busy</td>\n",
       "      <td>Regular busy days</td>\n",
       "      <td>Aaverage orders</td>\n",
       "      <td>6.0</td>\n",
       "      <td>New customer</td>\n",
       "      <td>587.820779</td>\n",
       "      <td>High Spender</td>\n",
       "      <td>11.0</td>\n",
       "      <td>Regular customer</td>\n",
       "      <td>both</td>\n",
       "    </tr>\n",
       "    <tr>\n",
       "      <th>...</th>\n",
       "      <td>...</td>\n",
       "      <td>...</td>\n",
       "      <td>...</td>\n",
       "      <td>...</td>\n",
       "      <td>...</td>\n",
       "      <td>...</td>\n",
       "      <td>...</td>\n",
       "      <td>...</td>\n",
       "      <td>...</td>\n",
       "      <td>...</td>\n",
       "      <td>...</td>\n",
       "      <td>...</td>\n",
       "      <td>...</td>\n",
       "      <td>...</td>\n",
       "      <td>...</td>\n",
       "      <td>...</td>\n",
       "      <td>...</td>\n",
       "      <td>...</td>\n",
       "      <td>...</td>\n",
       "      <td>...</td>\n",
       "      <td>...</td>\n",
       "    </tr>\n",
       "    <tr>\n",
       "      <th>30551227</th>\n",
       "      <td>5519</td>\n",
       "      <td>Kathy</td>\n",
       "      <td>Daniel</td>\n",
       "      <td>Female</td>\n",
       "      <td>Georgia</td>\n",
       "      <td>78</td>\n",
       "      <td>4/1/2020</td>\n",
       "      <td>3</td>\n",
       "      <td>married</td>\n",
       "      <td>262610</td>\n",
       "      <td>...</td>\n",
       "      <td>Regularly busy</td>\n",
       "      <td>Slowest_days</td>\n",
       "      <td>Most orders</td>\n",
       "      <td>54.0</td>\n",
       "      <td>Loyal customer</td>\n",
       "      <td>71.320380</td>\n",
       "      <td>High Spender</td>\n",
       "      <td>7.0</td>\n",
       "      <td>Frequent customer</td>\n",
       "      <td>both</td>\n",
       "    </tr>\n",
       "    <tr>\n",
       "      <th>30551228</th>\n",
       "      <td>5519</td>\n",
       "      <td>Kathy</td>\n",
       "      <td>Daniel</td>\n",
       "      <td>Female</td>\n",
       "      <td>Georgia</td>\n",
       "      <td>78</td>\n",
       "      <td>4/1/2020</td>\n",
       "      <td>3</td>\n",
       "      <td>married</td>\n",
       "      <td>262610</td>\n",
       "      <td>...</td>\n",
       "      <td>Regularly busy</td>\n",
       "      <td>Regular busy days</td>\n",
       "      <td>Aaverage orders</td>\n",
       "      <td>54.0</td>\n",
       "      <td>Loyal customer</td>\n",
       "      <td>71.320380</td>\n",
       "      <td>High Spender</td>\n",
       "      <td>7.0</td>\n",
       "      <td>Frequent customer</td>\n",
       "      <td>both</td>\n",
       "    </tr>\n",
       "    <tr>\n",
       "      <th>30551229</th>\n",
       "      <td>5519</td>\n",
       "      <td>Kathy</td>\n",
       "      <td>Daniel</td>\n",
       "      <td>Female</td>\n",
       "      <td>Georgia</td>\n",
       "      <td>78</td>\n",
       "      <td>4/1/2020</td>\n",
       "      <td>3</td>\n",
       "      <td>married</td>\n",
       "      <td>262610</td>\n",
       "      <td>...</td>\n",
       "      <td>Regularly busy</td>\n",
       "      <td>Regular busy days</td>\n",
       "      <td>Most orders</td>\n",
       "      <td>54.0</td>\n",
       "      <td>Loyal customer</td>\n",
       "      <td>71.320380</td>\n",
       "      <td>High Spender</td>\n",
       "      <td>7.0</td>\n",
       "      <td>Frequent customer</td>\n",
       "      <td>both</td>\n",
       "    </tr>\n",
       "    <tr>\n",
       "      <th>30556976</th>\n",
       "      <td>140589</td>\n",
       "      <td>Clarence</td>\n",
       "      <td>Harper</td>\n",
       "      <td>Male</td>\n",
       "      <td>Maryland</td>\n",
       "      <td>26</td>\n",
       "      <td>4/1/2020</td>\n",
       "      <td>0</td>\n",
       "      <td>single</td>\n",
       "      <td>154845</td>\n",
       "      <td>...</td>\n",
       "      <td>Regularly busy</td>\n",
       "      <td>Regular busy days</td>\n",
       "      <td>Aaverage orders</td>\n",
       "      <td>10.0</td>\n",
       "      <td>New customer</td>\n",
       "      <td>978.420388</td>\n",
       "      <td>High Spender</td>\n",
       "      <td>20.0</td>\n",
       "      <td>Regular customer</td>\n",
       "      <td>both</td>\n",
       "    </tr>\n",
       "    <tr>\n",
       "      <th>30559785</th>\n",
       "      <td>200065</td>\n",
       "      <td>Gary</td>\n",
       "      <td>Wilson</td>\n",
       "      <td>Male</td>\n",
       "      <td>Tennessee</td>\n",
       "      <td>59</td>\n",
       "      <td>4/1/2020</td>\n",
       "      <td>3</td>\n",
       "      <td>married</td>\n",
       "      <td>243617</td>\n",
       "      <td>...</td>\n",
       "      <td>Regularly busy</td>\n",
       "      <td>Regular busy days</td>\n",
       "      <td>Most orders</td>\n",
       "      <td>19.0</td>\n",
       "      <td>Regular customer</td>\n",
       "      <td>105.339869</td>\n",
       "      <td>High Spender</td>\n",
       "      <td>12.0</td>\n",
       "      <td>Regular customer</td>\n",
       "      <td>both</td>\n",
       "    </tr>\n",
       "  </tbody>\n",
       "</table>\n",
       "<p>4776 rows × 34 columns</p>\n",
       "</div>"
      ],
      "text/plain": [
       "          user_id first_name last_name     sex         STATE  age date_joined  \\\n",
       "5226       117740       Lisa    Sparks  Female        Oregon   55    1/1/2017   \n",
       "9794        31590    Beverly   Sanford  Female       Montana   46    1/1/2017   \n",
       "26118      100958   Benjamin   Parsons    Male  North Dakota   18    1/2/2017   \n",
       "26119      100958   Benjamin   Parsons    Male  North Dakota   18    1/2/2017   \n",
       "26120      100958   Benjamin   Parsons    Male  North Dakota   18    1/2/2017   \n",
       "...           ...        ...       ...     ...           ...  ...         ...   \n",
       "30551227     5519      Kathy    Daniel  Female       Georgia   78    4/1/2020   \n",
       "30551228     5519      Kathy    Daniel  Female       Georgia   78    4/1/2020   \n",
       "30551229     5519      Kathy    Daniel  Female       Georgia   78    4/1/2020   \n",
       "30556976   140589   Clarence    Harper    Male      Maryland   26    4/1/2020   \n",
       "30559785   200065       Gary    Wilson    Male     Tennessee   59    4/1/2020   \n",
       "\n",
       "          n_dependants                        fam_status  income  ...  \\\n",
       "5226                 1                           married  292759  ...   \n",
       "9794                 0                            single  154076  ...   \n",
       "26118                2  living with parents and siblings  113408  ...   \n",
       "26119                2  living with parents and siblings  113408  ...   \n",
       "26120                2  living with parents and siblings  113408  ...   \n",
       "...                ...                               ...     ...  ...   \n",
       "30551227             3                           married  262610  ...   \n",
       "30551228             3                           married  262610  ...   \n",
       "30551229             3                           married  262610  ...   \n",
       "30556976             0                            single  154845  ...   \n",
       "30559785             3                           married  243617  ...   \n",
       "\n",
       "             busiest_day       busiest_days  busiest_period_of_day  max_order  \\\n",
       "5226      Regularly busy       Busiest_days            Most orders       85.0   \n",
       "9794      Regularly busy       Busiest_days        Aaverage orders       39.0   \n",
       "26118        Busiest day       Busiest_days            Most orders        6.0   \n",
       "26119        Busiest day       Busiest_days            Most orders        6.0   \n",
       "26120     Regularly busy  Regular busy days        Aaverage orders        6.0   \n",
       "...                  ...                ...                    ...        ...   \n",
       "30551227  Regularly busy       Slowest_days            Most orders       54.0   \n",
       "30551228  Regularly busy  Regular busy days        Aaverage orders       54.0   \n",
       "30551229  Regularly busy  Regular busy days            Most orders       54.0   \n",
       "30556976  Regularly busy  Regular busy days        Aaverage orders       10.0   \n",
       "30559785  Regularly busy  Regular busy days            Most orders       19.0   \n",
       "\n",
       "              loyalty_flag  mean_price  spending_flag  median_days  \\\n",
       "5226        Loyal customer   37.052165   High Spender          4.0   \n",
       "9794      Regular customer   59.676655   High Spender          8.0   \n",
       "26118         New customer  587.820779   High Spender         11.0   \n",
       "26119         New customer  587.820779   High Spender         11.0   \n",
       "26120         New customer  587.820779   High Spender         11.0   \n",
       "...                    ...         ...            ...          ...   \n",
       "30551227    Loyal customer   71.320380   High Spender          7.0   \n",
       "30551228    Loyal customer   71.320380   High Spender          7.0   \n",
       "30551229    Loyal customer   71.320380   High Spender          7.0   \n",
       "30556976      New customer  978.420388   High Spender         20.0   \n",
       "30559785  Regular customer  105.339869   High Spender         12.0   \n",
       "\n",
       "             frequency_flag  _merge  \n",
       "5226      Frequent customer    both  \n",
       "9794      Frequent customer    both  \n",
       "26118      Regular customer    both  \n",
       "26119      Regular customer    both  \n",
       "26120      Regular customer    both  \n",
       "...                     ...     ...  \n",
       "30551227  Frequent customer    both  \n",
       "30551228  Frequent customer    both  \n",
       "30551229  Frequent customer    both  \n",
       "30556976   Regular customer    both  \n",
       "30559785   Regular customer    both  \n",
       "\n",
       "[4776 rows x 34 columns]"
      ]
     },
     "execution_count": 21,
     "metadata": {},
     "output_type": "execute_result"
    }
   ],
   "source": [
    "df_merge.loc[df_merge['prices'] > 100]"
   ]
  },
  {
   "cell_type": "code",
   "execution_count": 22,
   "id": "35072ea1",
   "metadata": {},
   "outputs": [],
   "source": [
    "df_merge.loc[df_merge['prices'] >100, 'prices'] = np.nan"
   ]
  },
  {
   "cell_type": "code",
   "execution_count": 9,
   "id": "55fc4673",
   "metadata": {},
   "outputs": [
    {
     "data": {
      "text/plain": [
       "99999.0"
      ]
     },
     "execution_count": 9,
     "metadata": {},
     "output_type": "execute_result"
    }
   ],
   "source": [
    "df_merge['prices'].max()"
   ]
  },
  {
   "cell_type": "code",
   "execution_count": 24,
   "id": "422d6d4a",
   "metadata": {},
   "outputs": [
    {
     "data": {
      "text/plain": [
       "<AxesSubplot:ylabel='Frequency'>"
      ]
     },
     "execution_count": 24,
     "metadata": {},
     "output_type": "execute_result"
    },
    {
     "data": {
      "image/png": "[encoded data removed]",
      "text/plain": [
       "<Figure size 432x288 with 1 Axes>"
      ]
     },
     "metadata": {
      "needs_background": "light"
     },
     "output_type": "display_data"
    }
   ],
   "source": [
    "df_merge['prices'].plot.hist(bins = 25)"
   ]
  },
  {
   "cell_type": "code",
   "execution_count": 29,
   "id": "f6c2df5b",
   "metadata": {},
   "outputs": [
    {
     "data": {
      "image/png": "[encoded data removed]",
      "text/plain": [
       "<Figure size 432x288 with 1 Axes>"
      ]
     },
     "metadata": {
      "needs_background": "light"
     },
     "output_type": "display_data"
    }
   ],
   "source": [
    "histogram_prices = df_merge['prices'].plot.hist(bins = 70)"
   ]
  },
  {
   "cell_type": "code",
   "execution_count": 31,
   "id": "daf7833e",
   "metadata": {},
   "outputs": [],
   "source": [
    "histogram_prices.figure.savefig(os.path.join(path, '04-Analysis','Visualization', 'instacart_histogram_1000000.png'))"
   ]
  },
  {
   "cell_type": "markdown",
   "id": "cf0baf18",
   "metadata": {},
   "source": [
    "# creating histogram for order_hour_of_day"
   ]
  },
  {
   "cell_type": "code",
   "execution_count": 32,
   "id": "aed04799",
   "metadata": {},
   "outputs": [
    {
     "data": {
      "text/plain": [
       "<AxesSubplot:ylabel='Frequency'>"
      ]
     },
     "execution_count": 32,
     "metadata": {},
     "output_type": "execute_result"
    },
    {
     "data": {
      "image/png": "[encoded data removed]",
      "text/plain": [
       "<Figure size 432x288 with 1 Axes>"
      ]
     },
     "metadata": {
      "needs_background": "light"
     },
     "output_type": "display_data"
    }
   ],
   "source": [
    "# creating histogram\n",
    "df_merge['order_hour_of_day'].plot.hist(bins = 70)\n",
    "\n"
   ]
  },
  {
   "cell_type": "code",
   "execution_count": 34,
   "id": "099e452a",
   "metadata": {},
   "outputs": [
    {
     "ename": "IndentationError",
     "evalue": "unindent does not match any outer indentation level (<tokenize>, line 3)",
     "output_type": "error",
     "traceback": [
      "\u001b[0;36m  File \u001b[0;32m<tokenize>:3\u001b[0;36m\u001b[0m\n\u001b[0;31m    decreased as people went to bed.\u001b[0m\n\u001b[0m    ^\u001b[0m\n\u001b[0;31mIndentationError\u001b[0m\u001b[0;31m:\u001b[0m unindent does not match any outer indentation level\n"
     ]
    }
   ],
   "source": [
    "# The histogram shows that during the day we have more orders and to be more price. \n",
    "  #The most orders were made between the 10-17 hour of the day. Then the orders steadily\n",
    " #decreased as people went to bed."
   ]
  },
  {
   "cell_type": "markdown",
   "id": "63e7b6c6",
   "metadata": {},
   "source": [
    "# creating bar chart for loyalty flag"
   ]
  },
  {
   "cell_type": "code",
   "execution_count": 35,
   "id": "d4c2ca86",
   "metadata": {},
   "outputs": [
    {
     "data": {
      "text/plain": [
       "<AxesSubplot:>"
      ]
     },
     "execution_count": 35,
     "metadata": {},
     "output_type": "execute_result"
    },
    {
     "data": {
      "image/png": "[encoded data removed]",
      "text/plain": [
       "<Figure size 432x288 with 1 Axes>"
      ]
     },
     "metadata": {
      "needs_background": "light"
     },
     "output_type": "display_data"
    }
   ],
   "source": [
    "# creating bar chart\n",
    "df_merge['loyalty_flag'].value_counts().plot.bar()"
   ]
  },
  {
   "cell_type": "code",
   "execution_count": 36,
   "id": "04847815",
   "metadata": {},
   "outputs": [
    {
     "data": {
      "text/plain": [
       "<AxesSubplot:>"
      ]
     },
     "execution_count": 36,
     "metadata": {},
     "output_type": "execute_result"
    },
    {
     "data": {
      "image/png": "[encoded data removed]",
      "text/plain": [
       "<Figure size 432x288 with 1 Axes>"
      ]
     },
     "metadata": {
      "needs_background": "light"
     },
     "output_type": "display_data"
    }
   ],
   "source": [
    "# creating bar chart by sorting\n",
    "df_merge['loyalty_flag'].value_counts().sort_index().plot.bar()"
   ]
  },
  {
   "cell_type": "code",
   "execution_count": 37,
   "id": "db1195a3",
   "metadata": {},
   "outputs": [
    {
     "data": {
      "text/plain": [
       "Regular customer    15518648\n",
       "Loyal customer      10481344\n",
       "New customer         4564251\n",
       "Name: loyalty_flag, dtype: int64"
      ]
     },
     "execution_count": 37,
     "metadata": {},
     "output_type": "execute_result"
    }
   ],
   "source": [
    "df_merge['loyalty_flag'].value_counts()"
   ]
  },
  {
   "cell_type": "code",
   "execution_count": 38,
   "id": "d1c34c6e",
   "metadata": {},
   "outputs": [
    {
     "data": {
      "text/plain": [
       "Loyal customer      10481344\n",
       "New customer         4564251\n",
       "Regular customer    15518648\n",
       "Name: loyalty_flag, dtype: int64"
      ]
     },
     "execution_count": 38,
     "metadata": {},
     "output_type": "execute_result"
    }
   ],
   "source": [
    "df_merge['loyalty_flag'].value_counts().sort_index()"
   ]
  },
  {
   "cell_type": "code",
   "execution_count": 39,
   "id": "0d4e7275",
   "metadata": {},
   "outputs": [
    {
     "data": {
      "image/png": "[encoded data removed]",
      "text/plain": [
       "<Figure size 432x288 with 1 Axes>"
      ]
     },
     "metadata": {
      "needs_background": "light"
     },
     "output_type": "display_data"
    }
   ],
   "source": [
    "# creating bar chart by different colors\n",
    "bar = df_merge['loyalty_flag'].value_counts().plot.bar(color=['purple','red','orange'])"
   ]
  },
  {
   "cell_type": "code",
   "execution_count": 41,
   "id": "6cd17ff9",
   "metadata": {},
   "outputs": [],
   "source": [
    "bar.figure.savefig(os.path.join(path, '04-Analysis','Visualization', 'bar_loyalty_flag.png'))"
   ]
  },
  {
   "cell_type": "markdown",
   "id": "3f350acb",
   "metadata": {},
   "source": [
    "# Check whether there’s a difference in expenditure (the “prices” column) depending on the hour of the day."
   ]
  },
  {
   "cell_type": "code",
   "execution_count": 42,
   "id": "cacd274e",
   "metadata": {},
   "outputs": [],
   "source": [
    "# creating line chart\n",
    "np.random.seed(4)\n",
    "dev = np.random.rand(len(df_merge)) <= 0.7"
   ]
  },
  {
   "cell_type": "code",
   "execution_count": 43,
   "id": "d12a4567",
   "metadata": {},
   "outputs": [
    {
     "data": {
      "text/plain": [
       "array([False,  True, False, ...,  True,  True,  True])"
      ]
     },
     "execution_count": 43,
     "metadata": {},
     "output_type": "execute_result"
    }
   ],
   "source": [
    "dev"
   ]
  },
  {
   "cell_type": "code",
   "execution_count": 44,
   "id": "5e5b14f1",
   "metadata": {},
   "outputs": [
    {
     "data": {
      "text/plain": [
       "array([0.9068232 , 0.13996656, 0.31467843, 0.55782977, 0.31540184,\n",
       "       0.03438144, 0.15825806, 0.38599348, 0.89856761, 0.2316577 ])"
      ]
     },
     "execution_count": 44,
     "metadata": {},
     "output_type": "execute_result"
    }
   ],
   "source": [
    "np.random.rand(10)"
   ]
  },
  {
   "cell_type": "code",
   "execution_count": 45,
   "id": "40960082",
   "metadata": {},
   "outputs": [],
   "source": [
    "big = df_merge[dev]\n",
    "small = df_merge[~dev]"
   ]
  },
  {
   "cell_type": "code",
   "execution_count": 46,
   "id": "9eb98bd4",
   "metadata": {},
   "outputs": [],
   "source": [
    "# store 70% of sample in the bigdataframe big\n",
    "big=df_merge[dev]"
   ]
  },
  {
   "cell_type": "code",
   "execution_count": 47,
   "id": "116872ec",
   "metadata": {},
   "outputs": [],
   "source": [
    "# store 30% of sample in the bigdataframe small\n",
    "big=df_merge[dev]"
   ]
  },
  {
   "cell_type": "code",
   "execution_count": 48,
   "id": "91fe5bf4",
   "metadata": {},
   "outputs": [
    {
     "data": {
      "text/plain": [
       "30564243"
      ]
     },
     "execution_count": 48,
     "metadata": {},
     "output_type": "execute_result"
    }
   ],
   "source": [
    "len(df_merge)"
   ]
  },
  {
   "cell_type": "code",
   "execution_count": 49,
   "id": "607097ac",
   "metadata": {},
   "outputs": [
    {
     "data": {
      "text/plain": [
       "30564243"
      ]
     },
     "execution_count": 49,
     "metadata": {},
     "output_type": "execute_result"
    }
   ],
   "source": [
    "len(big)+len(small)"
   ]
  },
  {
   "cell_type": "code",
   "execution_count": 50,
   "id": "5462ff7a",
   "metadata": {},
   "outputs": [],
   "source": [
    "df_2 = small[['order_hour_of_day','prices']]"
   ]
  },
  {
   "cell_type": "code",
   "execution_count": 51,
   "id": "715c838e",
   "metadata": {},
   "outputs": [
    {
     "data": {
      "image/png": "[encoded data removed]",
      "text/plain": [
       "<Figure size 432x288 with 1 Axes>"
      ]
     },
     "metadata": {
      "needs_background": "light"
     },
     "output_type": "display_data"
    }
   ],
   "source": [
    "line=sns.lineplot(data=df_2,x='order_hour_of_day',y='prices')"
   ]
  },
  {
   "cell_type": "code",
   "execution_count": 52,
   "id": "5914b221",
   "metadata": {},
   "outputs": [],
   "source": [
    "df_4 = small[['order_hour_of_day','prices']]"
   ]
  },
  {
   "cell_type": "code",
   "execution_count": 53,
   "id": "73a495d4",
   "metadata": {},
   "outputs": [
    {
     "data": {
      "image/png": "[encoded data removed]",
      "text/plain": [
       "<Figure size 432x288 with 1 Axes>"
      ]
     },
     "metadata": {
      "needs_background": "light"
     },
     "output_type": "display_data"
    }
   ],
   "source": [
    "line_2=sns.lineplot(data=df_4,x='order_hour_of_day',y='prices')"
   ]
  },
  {
   "cell_type": "code",
   "execution_count": 55,
   "id": "0474e7f5",
   "metadata": {},
   "outputs": [],
   "source": [
    "#export line \n",
    "line_2.figure.savefig(os.path.join(path, '04-Analysis','Visualization', 'instacart_linesmall.png'))"
   ]
  },
  {
   "cell_type": "markdown",
   "id": "30b3392b",
   "metadata": {},
   "source": [
    "# First, determine whether there’s a connection between age and family situation by creating a line chart exploring the connections between age and number of dependents:"
   ]
  },
  {
   "cell_type": "code",
   "execution_count": 56,
   "id": "f76040c0",
   "metadata": {},
   "outputs": [],
   "source": [
    "df_2 = small[['age','fam_status']]"
   ]
  },
  {
   "cell_type": "code",
   "execution_count": 57,
   "id": "8d3af98f",
   "metadata": {},
   "outputs": [
    {
     "data": {
      "image/png": "[encoded data removed]",
      "text/plain": [
       "<Figure size 432x288 with 1 Axes>"
      ]
     },
     "metadata": {
      "needs_background": "light"
     },
     "output_type": "display_data"
    }
   ],
   "source": [
    "line_2=sns.lineplot(data=df_2,x='age',y='fam_status')"
   ]
  },
  {
   "cell_type": "code",
   "execution_count": 58,
   "id": "ebc5302f",
   "metadata": {},
   "outputs": [],
   "source": [
    "#export line \n",
    "line_2.figure.savefig(os.path.join(path, '04-Analysis','Visualization', 'instacart_linesmall_.png'))\n"
   ]
  },
  {
   "cell_type": "markdown",
   "id": "5b229af4",
   "metadata": {},
   "source": [
    "# You’ll also need to explore whether there’s a connection between age and spending power (income)."
   ]
  },
  {
   "cell_type": "code",
   "execution_count": 62,
   "id": "ad69495e",
   "metadata": {},
   "outputs": [
    {
     "data": {
      "image/png": "[encoded data removed]",
      "text/plain": [
       "<Figure size 432x288 with 1 Axes>"
      ]
     },
     "metadata": {
      "needs_background": "light"
     },
     "output_type": "display_data"
    }
   ],
   "source": [
    "# creating scatterplot chart\n",
    "scatter_plot=sns.scatterplot(x = 'age', y = 'income',data = df_merge)\n",
    "\n",
    "#Yes there seems to be a relationship as people above the age of 40 have a higher income"
   ]
  },
  {
   "cell_type": "code",
   "execution_count": 63,
   "id": "94d90ac2",
   "metadata": {},
   "outputs": [],
   "source": [
    "#export scatter \n",
    "scatter_plot.figure.savefig(os.path.join(path,'04-Analysis','Visualization','instacart_scatter.png'))"
   ]
  },
  {
   "cell_type": "code",
   "execution_count": null,
   "id": "421f6f4b",
   "metadata": {},
   "outputs": [],
   "source": []
  },
  {
   "cell_type": "code",
   "execution_count": null,
   "id": "9f6dfc13",
   "metadata": {},
   "outputs": [],
   "source": []
  }
 ],
 "metadata": {
  "kernelspec": {
   "display_name": "Python 3 (ipykernel)",
   "language": "python",
   "name": "python3"
  },
  "language_info": {
   "codemirror_mode": {
    "name": "ipython",
    "version": 3
   },
   "file_extension": ".py",
   "mimetype": "text/x-python",
   "name": "python",
   "nbconvert_exporter": "python",
   "pygments_lexer": "ipython3",
   "version": "3.9.12"
  }
 },
 "nbformat": 4,
 "nbformat_minor": 5
}
