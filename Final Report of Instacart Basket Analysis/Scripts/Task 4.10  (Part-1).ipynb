{
 "cells": [
  {
   "cell_type": "markdown",
   "id": "6ff7f620",
   "metadata": {},
   "source": [
    "# Import Libraries"
   ]
  },
  {
   "cell_type": "code",
   "execution_count": 2,
   "id": "3677f201",
   "metadata": {},
   "outputs": [],
   "source": [
    "import pandas as pd\n",
    "import numpy as np\n",
    "import os\n",
    "import matplotlib.pyplot as plt\n",
    "import seaborn as sns\n",
    "import scipy"
   ]
  },
  {
   "cell_type": "markdown",
   "id": "0bc264e1",
   "metadata": {},
   "source": [
    "# Import Data"
   ]
  },
  {
   "cell_type": "code",
   "execution_count": 3,
   "id": "c74a6157",
   "metadata": {},
   "outputs": [],
   "source": [
    "path = r'/Users/spathak/Instacart_Basket_Analysis'"
   ]
  },
  {
   "cell_type": "code",
   "execution_count": 4,
   "id": "89dd8635",
   "metadata": {},
   "outputs": [],
   "source": [
    "#Importing Instacart_Basket_merged.pkl dataframe\n",
    "\n",
    "df_merge = pd.read_pickle(os.path.join(path, '02-Data','Prepared-Data','Instacart_Basket_merged.pkl'))"
   ]
  },
  {
   "cell_type": "code",
   "execution_count": 5,
   "id": "3a961e7f",
   "metadata": {},
   "outputs": [],
   "source": [
    "# Import  data set departments.csv\n",
    "\n",
    "df_dep_t_new = pd.read_csv(os.path.join(path, '02-Data','Prepared-Data', 'departments_wrangled.csv'),index_col=False)\n"
   ]
  },
  {
   "cell_type": "code",
   "execution_count": 119,
   "id": "7e24b5eb",
   "metadata": {},
   "outputs": [
    {
     "data": {
      "text/html": [
       "<div>\n",
       "<style scoped>\n",
       "    .dataframe tbody tr th:only-of-type {\n",
       "        vertical-align: middle;\n",
       "    }\n",
       "\n",
       "    .dataframe tbody tr th {\n",
       "        vertical-align: top;\n",
       "    }\n",
       "\n",
       "    .dataframe thead th {\n",
       "        text-align: right;\n",
       "    }\n",
       "</style>\n",
       "<table border=\"1\" class=\"dataframe\">\n",
       "  <thead>\n",
       "    <tr style=\"text-align: right;\">\n",
       "      <th></th>\n",
       "      <th>department_id</th>\n",
       "      <th>department</th>\n",
       "    </tr>\n",
       "  </thead>\n",
       "  <tbody>\n",
       "    <tr>\n",
       "      <th>0</th>\n",
       "      <td>1</td>\n",
       "      <td>frozen</td>\n",
       "    </tr>\n",
       "    <tr>\n",
       "      <th>1</th>\n",
       "      <td>2</td>\n",
       "      <td>other</td>\n",
       "    </tr>\n",
       "    <tr>\n",
       "      <th>2</th>\n",
       "      <td>3</td>\n",
       "      <td>bakery</td>\n",
       "    </tr>\n",
       "    <tr>\n",
       "      <th>3</th>\n",
       "      <td>4</td>\n",
       "      <td>produce</td>\n",
       "    </tr>\n",
       "    <tr>\n",
       "      <th>4</th>\n",
       "      <td>5</td>\n",
       "      <td>alcohol</td>\n",
       "    </tr>\n",
       "    <tr>\n",
       "      <th>5</th>\n",
       "      <td>6</td>\n",
       "      <td>international</td>\n",
       "    </tr>\n",
       "    <tr>\n",
       "      <th>6</th>\n",
       "      <td>7</td>\n",
       "      <td>beverages</td>\n",
       "    </tr>\n",
       "    <tr>\n",
       "      <th>7</th>\n",
       "      <td>8</td>\n",
       "      <td>pets</td>\n",
       "    </tr>\n",
       "    <tr>\n",
       "      <th>8</th>\n",
       "      <td>9</td>\n",
       "      <td>dry goods pasta</td>\n",
       "    </tr>\n",
       "    <tr>\n",
       "      <th>9</th>\n",
       "      <td>10</td>\n",
       "      <td>bulk</td>\n",
       "    </tr>\n",
       "    <tr>\n",
       "      <th>10</th>\n",
       "      <td>11</td>\n",
       "      <td>personal care</td>\n",
       "    </tr>\n",
       "    <tr>\n",
       "      <th>11</th>\n",
       "      <td>12</td>\n",
       "      <td>meat seafood</td>\n",
       "    </tr>\n",
       "    <tr>\n",
       "      <th>12</th>\n",
       "      <td>13</td>\n",
       "      <td>pantry</td>\n",
       "    </tr>\n",
       "    <tr>\n",
       "      <th>13</th>\n",
       "      <td>14</td>\n",
       "      <td>breakfast</td>\n",
       "    </tr>\n",
       "    <tr>\n",
       "      <th>14</th>\n",
       "      <td>15</td>\n",
       "      <td>canned goods</td>\n",
       "    </tr>\n",
       "    <tr>\n",
       "      <th>15</th>\n",
       "      <td>16</td>\n",
       "      <td>dairy eggs</td>\n",
       "    </tr>\n",
       "    <tr>\n",
       "      <th>16</th>\n",
       "      <td>17</td>\n",
       "      <td>household</td>\n",
       "    </tr>\n",
       "    <tr>\n",
       "      <th>17</th>\n",
       "      <td>18</td>\n",
       "      <td>babies</td>\n",
       "    </tr>\n",
       "    <tr>\n",
       "      <th>18</th>\n",
       "      <td>19</td>\n",
       "      <td>snacks</td>\n",
       "    </tr>\n",
       "    <tr>\n",
       "      <th>19</th>\n",
       "      <td>20</td>\n",
       "      <td>deli</td>\n",
       "    </tr>\n",
       "    <tr>\n",
       "      <th>20</th>\n",
       "      <td>21</td>\n",
       "      <td>missing</td>\n",
       "    </tr>\n",
       "  </tbody>\n",
       "</table>\n",
       "</div>"
      ],
      "text/plain": [
       "    department_id       department\n",
       "0               1           frozen\n",
       "1               2            other\n",
       "2               3           bakery\n",
       "3               4          produce\n",
       "4               5          alcohol\n",
       "5               6    international\n",
       "6               7        beverages\n",
       "7               8             pets\n",
       "8               9  dry goods pasta\n",
       "9              10             bulk\n",
       "10             11    personal care\n",
       "11             12     meat seafood\n",
       "12             13           pantry\n",
       "13             14        breakfast\n",
       "14             15     canned goods\n",
       "15             16       dairy eggs\n",
       "16             17        household\n",
       "17             18           babies\n",
       "18             19           snacks\n",
       "19             20             deli\n",
       "20             21          missing"
      ]
     },
     "execution_count": 119,
     "metadata": {},
     "output_type": "execute_result"
    }
   ],
   "source": [
    "# Info of department dataframe\n",
    "df_dep_t_new.head(30)"
   ]
  },
  {
   "cell_type": "code",
   "execution_count": 7,
   "id": "5656de1d",
   "metadata": {},
   "outputs": [
    {
     "name": "stdout",
     "output_type": "stream",
     "text": [
      "<class 'pandas.core.frame.DataFrame'>\n",
      "Int64Index: 30564243 entries, 0 to 30564242\n",
      "Data columns (total 34 columns):\n",
      " #   Column                  Dtype   \n",
      "---  ------                  -----   \n",
      " 0   user_id                 int64   \n",
      " 1   first_name              object  \n",
      " 2   last_name               object  \n",
      " 3   sex                     object  \n",
      " 4   STATE                   object  \n",
      " 5   age                     int64   \n",
      " 6   date_joined             object  \n",
      " 7   n_dependants            int64   \n",
      " 8   fam_status              object  \n",
      " 9   income                  int64   \n",
      " 10  Unnamed: 0_x            float64 \n",
      " 11  order_id                float64 \n",
      " 12  order_number            float64 \n",
      " 13  orders_day_of_week      float64 \n",
      " 14  order_hour_of_day       float64 \n",
      " 15  days_since_prior_order  float64 \n",
      " 16  product_id              float64 \n",
      " 17  add_to_cart_order       float64 \n",
      " 18  reordered               float64 \n",
      " 19  Unnamed: 0_y            float64 \n",
      " 20  product_name            object  \n",
      " 21  aisle_id                float64 \n",
      " 22  department_id           float64 \n",
      " 23  prices                  float64 \n",
      " 24  busiest_day             object  \n",
      " 25  busiest_days            object  \n",
      " 26  busiest_period_of_day   object  \n",
      " 27  max_order               float64 \n",
      " 28  loyalty_flag            object  \n",
      " 29  mean_price              float64 \n",
      " 30  spending_flag           object  \n",
      " 31  median_days             float64 \n",
      " 32  frequency_flag          object  \n",
      " 33  _merge                  category\n",
      "dtypes: category(1), float64(16), int64(4), object(13)\n",
      "memory usage: 7.8+ GB\n"
     ]
    }
   ],
   "source": [
    "# Info of df_merge dataframe\n",
    "df_merge.info()"
   ]
  },
  {
   "cell_type": "code",
   "execution_count": 36,
   "id": "4354d9d0",
   "metadata": {},
   "outputs": [],
   "source": [
    "# merge the df_project_excl with df_dept\n",
    "df_merge_final = df_merge.merge(df_dep_t_new, on = 'department_id', how = 'outer')"
   ]
  },
  {
   "cell_type": "markdown",
   "id": "384a1e7a",
   "metadata": {},
   "source": [
    "# Question 2  Addressing any PII (Personally Identifiable Information) data\n",
    "\n",
    "We have PII data such as First_Name and Last_Name of customers. Because these columns could potentially be traced back to a particular person I will remove them from the data set.\n"
   ]
  },
  {
   "cell_type": "code",
   "execution_count": 8,
   "id": "d67293ae",
   "metadata": {},
   "outputs": [],
   "source": [
    "# Dropping PII columns\n",
    "\n",
    "df_merge = df_merge.drop(columns = ['first_name', 'last_name'])"
   ]
  },
  {
   "cell_type": "code",
   "execution_count": 9,
   "id": "ba966418",
   "metadata": {},
   "outputs": [
    {
     "data": {
      "text/plain": [
       "Index(['user_id', 'sex', 'STATE', 'age', 'date_joined', 'n_dependants',\n",
       "       'fam_status', 'income', 'Unnamed: 0_x', 'order_id', 'order_number',\n",
       "       'orders_day_of_week', 'order_hour_of_day', 'days_since_prior_order',\n",
       "       'product_id', 'add_to_cart_order', 'reordered', 'Unnamed: 0_y',\n",
       "       'product_name', 'aisle_id', 'department_id', 'prices', 'busiest_day',\n",
       "       'busiest_days', 'busiest_period_of_day', 'max_order', 'loyalty_flag',\n",
       "       'mean_price', 'spending_flag', 'median_days', 'frequency_flag',\n",
       "       '_merge'],\n",
       "      dtype='object')"
      ]
     },
     "execution_count": 9,
     "metadata": {},
     "output_type": "execute_result"
    }
   ],
   "source": [
    "# Checking the output\n",
    "\n",
    "df_merge.columns"
   ]
  },
  {
   "cell_type": "code",
   "execution_count": 10,
   "id": "28e41e51",
   "metadata": {},
   "outputs": [
    {
     "data": {
      "text/plain": [
       "(30564243, 32)"
      ]
     },
     "execution_count": 10,
     "metadata": {},
     "output_type": "execute_result"
    }
   ],
   "source": [
    "# Checking the number of rows and columns\n",
    "\n",
    "df_merge.shape"
   ]
  },
  {
   "cell_type": "markdown",
   "id": "b348c627",
   "metadata": {},
   "source": [
    "# Question 3."
   ]
  },
  {
   "cell_type": "code",
   "execution_count": 11,
   "id": "ea0942ed",
   "metadata": {},
   "outputs": [],
   "source": [
    "## create an empty container\n",
    "result = []\n",
    "\n",
    "for value in df_merge[\"STATE\"]:\n",
    "    if value in ['Maine','New Hampshire','Vermont','Massachusetts','Rhode Island','Connecticut New York','Pennsylvania',\n",
    "'New Jersey']:\n",
    "        result.append(\"Northeast\")  \n",
    "    elif value in ['Wisconsin','Michigan','Illinois','Indiana','Ohio North Dakota','South Dakota','Nebraska','Kansas','Minnesota','Iowa','Missouri']:\n",
    "        result.append(\"Midwest\")\n",
    "    elif value in ['Delaware','Maryland','District of Columbia','Virginia','West Virginia','North Carolina','South Carolina','Georgia','Florida Kentucky','Tennessee','Mississippi','Alabama','Oklahoma','Texas','Arkansas','Louisiana',]:\n",
    "        result.append(\"South\")\n",
    "    elif value in ['Alaska','Washington','Oregon','California','Hawaii','Idaho','Montana','Wyoming','Nevada','Utah','Colorado','Arizona','New Mexico',]:\n",
    "        result.append(\"West\")\n",
    "    else:\n",
    "        result.append(\"Unknown\")\n"
   ]
  },
  {
   "cell_type": "code",
   "execution_count": 53,
   "id": "784cf835",
   "metadata": {},
   "outputs": [],
   "source": [
    "# Combining a new column \"Region\" with df_merge.\n",
    "df_merge_final ['region']=result"
   ]
  },
  {
   "cell_type": "code",
   "execution_count": 54,
   "id": "9f4086c3",
   "metadata": {
    "scrolled": true
   },
   "outputs": [
    {
     "data": {
      "text/plain": [
       "South        8988797\n",
       "West         7825150\n",
       "Midwest      5968767\n",
       "Northeast    4211525\n",
       "Unknown      3570004\n",
       "Name: region, dtype: int64"
      ]
     },
     "execution_count": 54,
     "metadata": {},
     "output_type": "execute_result"
    }
   ],
   "source": [
    "#Checking the frequency distribution\n",
    "df_merge_final ['region'].value_counts(dropna=False)"
   ]
  },
  {
   "cell_type": "code",
   "execution_count": 55,
   "id": "276d2b65",
   "metadata": {},
   "outputs": [],
   "source": [
    "#creating a crosstab between region and spending_flag\n",
    "region_spend=pd.crosstab(df_merge_final['region'],df_merge_final['spending_flag'],dropna=False)"
   ]
  },
  {
   "cell_type": "code",
   "execution_count": 56,
   "id": "3648ce6b",
   "metadata": {},
   "outputs": [
    {
     "data": {
      "text/html": [
       "<div>\n",
       "<style scoped>\n",
       "    .dataframe tbody tr th:only-of-type {\n",
       "        vertical-align: middle;\n",
       "    }\n",
       "\n",
       "    .dataframe tbody tr th {\n",
       "        vertical-align: top;\n",
       "    }\n",
       "\n",
       "    .dataframe thead th {\n",
       "        text-align: right;\n",
       "    }\n",
       "</style>\n",
       "<table border=\"1\" class=\"dataframe\">\n",
       "  <thead>\n",
       "    <tr style=\"text-align: right;\">\n",
       "      <th>spending_flag</th>\n",
       "      <th>High Spender</th>\n",
       "      <th>Low Spender</th>\n",
       "    </tr>\n",
       "    <tr>\n",
       "      <th>region</th>\n",
       "      <th></th>\n",
       "      <th></th>\n",
       "    </tr>\n",
       "  </thead>\n",
       "  <tbody>\n",
       "    <tr>\n",
       "      <th>Midwest</th>\n",
       "      <td>119555</td>\n",
       "      <td>5849203</td>\n",
       "    </tr>\n",
       "    <tr>\n",
       "      <th>Northeast</th>\n",
       "      <td>82732</td>\n",
       "      <td>4128793</td>\n",
       "    </tr>\n",
       "    <tr>\n",
       "      <th>South</th>\n",
       "      <td>178216</td>\n",
       "      <td>8810581</td>\n",
       "    </tr>\n",
       "    <tr>\n",
       "      <th>Unknown</th>\n",
       "      <td>71177</td>\n",
       "      <td>3498827</td>\n",
       "    </tr>\n",
       "    <tr>\n",
       "      <th>West</th>\n",
       "      <td>153149</td>\n",
       "      <td>7672001</td>\n",
       "    </tr>\n",
       "  </tbody>\n",
       "</table>\n",
       "</div>"
      ],
      "text/plain": [
       "spending_flag  High Spender  Low Spender\n",
       "region                                  \n",
       "Midwest              119555      5849203\n",
       "Northeast             82732      4128793\n",
       "South                178216      8810581\n",
       "Unknown               71177      3498827\n",
       "West                 153149      7672001"
      ]
     },
     "execution_count": 56,
     "metadata": {},
     "output_type": "execute_result"
    }
   ],
   "source": [
    "region_spend"
   ]
  },
  {
   "cell_type": "markdown",
   "id": "2eb8057c",
   "metadata": {},
   "source": [
    "# Question 4"
   ]
  },
  {
   "cell_type": "code",
   "execution_count": 114,
   "id": "52ce3d5d",
   "metadata": {},
   "outputs": [],
   "source": [
    "# creating deriving coloum with log function\n",
    "df_merge_final.loc[df_merge['max_order'] > 5, 'exclusion_flag'] = 'Low_activity_customer'\n",
    "df_merge_final.loc[df_merge['max_order']<= 5,'exclusion_flag'] = 'High_activity_customer'"
   ]
  },
  {
   "cell_type": "code",
   "execution_count": 58,
   "id": "62a92ba5",
   "metadata": {},
   "outputs": [
    {
     "data": {
      "text/plain": [
       "Low_activity_customer     29494261\n",
       "High_activity_customer     1069982\n",
       "Name: exclusion_flag, dtype: int64"
      ]
     },
     "execution_count": 58,
     "metadata": {},
     "output_type": "execute_result"
    }
   ],
   "source": [
    "# Check frequencies of exclusion_flags for accuracy\n",
    "df_merge_final['exclusion_flag'].value_counts(dropna=False)"
   ]
  },
  {
   "cell_type": "code",
   "execution_count": 59,
   "id": "f93072d2",
   "metadata": {},
   "outputs": [],
   "source": [
    "#create a subset of high order customer\n",
    "df_high = df_merge_final[df_merge_final['exclusion_flag']=='High_activity_customer']"
   ]
  },
  {
   "cell_type": "code",
   "execution_count": 60,
   "id": "0c7ccd38",
   "metadata": {},
   "outputs": [],
   "source": [
    "# export high order customer\n",
    "df_high.to_pickle(os.path.join(path, '02-Data','Prepared-Data','df_high_order.pkl'))"
   ]
  },
  {
   "cell_type": "markdown",
   "id": "cc210c8c",
   "metadata": {},
   "source": [
    "# Question 6,7,8,9"
   ]
  },
  {
   "cell_type": "markdown",
   "id": "9c320a99",
   "metadata": {},
   "source": [
    " # AGE"
   ]
  },
  {
   "cell_type": "code",
   "execution_count": 61,
   "id": "e6031e7b",
   "metadata": {},
   "outputs": [],
   "source": [
    "# profiling based on AGE\n",
    "df_merge_final.loc[df_merge_final['age']>65,'age_flag']='Senior'\n",
    "df_merge_final.loc[(df_merge_final['age']<=65) & (df_merge_final['age']>40),'age_flag']='Middle-age'\n",
    "df_merge_final.loc[df_merge_final['age']<=40,'age_flag']='Young adult'"
   ]
  },
  {
   "cell_type": "code",
   "execution_count": 62,
   "id": "3251ffda",
   "metadata": {},
   "outputs": [
    {
     "data": {
      "text/plain": [
       "Middle-age     11928040\n",
       "Young adult    11007922\n",
       "Senior          7628281\n",
       "Name: age_flag, dtype: int64"
      ]
     },
     "execution_count": 62,
     "metadata": {},
     "output_type": "execute_result"
    }
   ],
   "source": [
    "# Check frequencies of age_flags for accuracy\n",
    "df_merge_final['age_flag'].value_counts(dropna=False)"
   ]
  },
  {
   "cell_type": "code",
   "execution_count": 63,
   "id": "e00c5433",
   "metadata": {},
   "outputs": [
    {
     "data": {
      "image/png": "[encoded data removed]",
      "text/plain": [
       "<Figure size 432x288 with 1 Axes>"
      ]
     },
     "metadata": {},
     "output_type": "display_data"
    }
   ],
   "source": [
    "#create a pie chart of age variable\n",
    "age_profile=df_merge_final['age_flag'].value_counts().plot.pie(title='AGE PROFILE',label='',autopct=('%1.f%%'))"
   ]
  },
  {
   "cell_type": "code",
   "execution_count": 64,
   "id": "429c718d",
   "metadata": {},
   "outputs": [],
   "source": [
    "# exporting the viz\n",
    "age_profile=age_profile.figure.savefig(os.path.join(path,'04-Analysis','Visualization','age_profile.png'))"
   ]
  },
  {
   "cell_type": "code",
   "execution_count": 65,
   "id": "10986470",
   "metadata": {},
   "outputs": [],
   "source": [
    "pd.options.display.max_rows = None"
   ]
  },
  {
   "cell_type": "markdown",
   "id": "a1645b31",
   "metadata": {},
   "source": [
    "# Customer Profile by Age And Region"
   ]
  },
  {
   "cell_type": "code",
   "execution_count": 67,
   "id": "12417eed",
   "metadata": {},
   "outputs": [],
   "source": [
    "# creating a crosstab between Age and region\n",
    "region_age=pd.crosstab(df_merge_final['region'],df_merge_final['age_flag'],dropna=False)"
   ]
  },
  {
   "cell_type": "code",
   "execution_count": 68,
   "id": "1aa40e0c",
   "metadata": {},
   "outputs": [
    {
     "data": {
      "text/html": [
       "<div>\n",
       "<style scoped>\n",
       "    .dataframe tbody tr th:only-of-type {\n",
       "        vertical-align: middle;\n",
       "    }\n",
       "\n",
       "    .dataframe tbody tr th {\n",
       "        vertical-align: top;\n",
       "    }\n",
       "\n",
       "    .dataframe thead th {\n",
       "        text-align: right;\n",
       "    }\n",
       "</style>\n",
       "<table border=\"1\" class=\"dataframe\">\n",
       "  <thead>\n",
       "    <tr style=\"text-align: right;\">\n",
       "      <th>age_flag</th>\n",
       "      <th>Middle-age</th>\n",
       "      <th>Senior</th>\n",
       "      <th>Young adult</th>\n",
       "    </tr>\n",
       "    <tr>\n",
       "      <th>region</th>\n",
       "      <th></th>\n",
       "      <th></th>\n",
       "      <th></th>\n",
       "    </tr>\n",
       "  </thead>\n",
       "  <tbody>\n",
       "    <tr>\n",
       "      <th>Midwest</th>\n",
       "      <td>2337817</td>\n",
       "      <td>1492449</td>\n",
       "      <td>2138501</td>\n",
       "    </tr>\n",
       "    <tr>\n",
       "      <th>Northeast</th>\n",
       "      <td>1645410</td>\n",
       "      <td>1048366</td>\n",
       "      <td>1517749</td>\n",
       "    </tr>\n",
       "    <tr>\n",
       "      <th>South</th>\n",
       "      <td>3513621</td>\n",
       "      <td>2244420</td>\n",
       "      <td>3230756</td>\n",
       "    </tr>\n",
       "    <tr>\n",
       "      <th>Unknown</th>\n",
       "      <td>1386155</td>\n",
       "      <td>898343</td>\n",
       "      <td>1285506</td>\n",
       "    </tr>\n",
       "    <tr>\n",
       "      <th>West</th>\n",
       "      <td>3045037</td>\n",
       "      <td>1944703</td>\n",
       "      <td>2835410</td>\n",
       "    </tr>\n",
       "  </tbody>\n",
       "</table>\n",
       "</div>"
      ],
      "text/plain": [
       "age_flag   Middle-age   Senior  Young adult\n",
       "region                                     \n",
       "Midwest       2337817  1492449      2138501\n",
       "Northeast     1645410  1048366      1517749\n",
       "South         3513621  2244420      3230756\n",
       "Unknown       1386155   898343      1285506\n",
       "West          3045037  1944703      2835410"
      ]
     },
     "execution_count": 68,
     "metadata": {},
     "output_type": "execute_result"
    }
   ],
   "source": [
    "region_age"
   ]
  },
  {
   "cell_type": "code",
   "execution_count": 69,
   "id": "73300082",
   "metadata": {},
   "outputs": [
    {
     "data": {
      "image/png": "[encoded data removed]",
      "text/plain": [
       "<Figure size 432x288 with 1 Axes>"
      ]
     },
     "metadata": {
      "needs_background": "light"
     },
     "output_type": "display_data"
    }
   ],
   "source": [
    "#creating bar chart\n",
    "region_age_fig = region_age.plot.bar(color=sns.color_palette('Oranges',2))\n",
    "plt.title('AGE PROFILE BY REGION',fontweight='bold')\n",
    "plt.show()"
   ]
  },
  {
   "cell_type": "code",
   "execution_count": 70,
   "id": "9d93d751",
   "metadata": {},
   "outputs": [],
   "source": [
    "# exporting the viz\n",
    "region_age_fig.figure.savefig(os.path.join(path,'04-Analysis','Visualization','region_age.png'))"
   ]
  },
  {
   "cell_type": "code",
   "execution_count": 71,
   "id": "a8954c16",
   "metadata": {},
   "outputs": [
    {
     "data": {
      "text/html": [
       "<div>\n",
       "<style scoped>\n",
       "    .dataframe tbody tr th:only-of-type {\n",
       "        vertical-align: middle;\n",
       "    }\n",
       "\n",
       "    .dataframe tbody tr th {\n",
       "        vertical-align: top;\n",
       "    }\n",
       "\n",
       "    .dataframe thead tr th {\n",
       "        text-align: left;\n",
       "    }\n",
       "\n",
       "    .dataframe thead tr:last-of-type th {\n",
       "        text-align: right;\n",
       "    }\n",
       "</style>\n",
       "<table border=\"1\" class=\"dataframe\">\n",
       "  <thead>\n",
       "    <tr>\n",
       "      <th></th>\n",
       "      <th colspan=\"3\" halign=\"left\">days_since_prior_order</th>\n",
       "      <th colspan=\"3\" halign=\"left\">prices</th>\n",
       "    </tr>\n",
       "    <tr>\n",
       "      <th></th>\n",
       "      <th>max</th>\n",
       "      <th>mean</th>\n",
       "      <th>min</th>\n",
       "      <th>max</th>\n",
       "      <th>mean</th>\n",
       "      <th>min</th>\n",
       "    </tr>\n",
       "    <tr>\n",
       "      <th>age_flag</th>\n",
       "      <th></th>\n",
       "      <th></th>\n",
       "      <th></th>\n",
       "      <th></th>\n",
       "      <th></th>\n",
       "      <th></th>\n",
       "    </tr>\n",
       "  </thead>\n",
       "  <tbody>\n",
       "    <tr>\n",
       "      <th>Middle-age</th>\n",
       "      <td>30.0</td>\n",
       "      <td>11.153650</td>\n",
       "      <td>0.0</td>\n",
       "      <td>99999.0</td>\n",
       "      <td>12.003229</td>\n",
       "      <td>1.0</td>\n",
       "    </tr>\n",
       "    <tr>\n",
       "      <th>Senior</th>\n",
       "      <td>30.0</td>\n",
       "      <td>11.122033</td>\n",
       "      <td>0.0</td>\n",
       "      <td>99999.0</td>\n",
       "      <td>11.817128</td>\n",
       "      <td>1.0</td>\n",
       "    </tr>\n",
       "    <tr>\n",
       "      <th>Young adult</th>\n",
       "      <td>30.0</td>\n",
       "      <td>11.149739</td>\n",
       "      <td>0.0</td>\n",
       "      <td>99999.0</td>\n",
       "      <td>12.059559</td>\n",
       "      <td>1.0</td>\n",
       "    </tr>\n",
       "  </tbody>\n",
       "</table>\n",
       "</div>"
      ],
      "text/plain": [
       "            days_since_prior_order                   prices                \n",
       "                               max       mean  min      max       mean  min\n",
       "age_flag                                                                   \n",
       "Middle-age                    30.0  11.153650  0.0  99999.0  12.003229  1.0\n",
       "Senior                        30.0  11.122033  0.0  99999.0  11.817128  1.0\n",
       "Young adult                   30.0  11.149739  0.0  99999.0  12.059559  1.0"
      ]
     },
     "execution_count": 71,
     "metadata": {},
     "output_type": "execute_result"
    }
   ],
   "source": [
    "# Age statistics\n",
    "df_merge.groupby(['age_flag']).agg({'days_since_prior_order':['max','mean','min'],'prices':['max','mean','min']})"
   ]
  },
  {
   "cell_type": "markdown",
   "id": "3c1c64c6",
   "metadata": {},
   "source": [
    "# Customer Profile by Age And Department_id"
   ]
  },
  {
   "cell_type": "code",
   "execution_count": 72,
   "id": "c7569621",
   "metadata": {},
   "outputs": [],
   "source": [
    "# exporting the viz\n",
    "region_age_fig.figure.savefig(os.path.join(path,'04-Analysis','Visualization','region_age.png'))"
   ]
  },
  {
   "cell_type": "code",
   "execution_count": 73,
   "id": "fcf185ce",
   "metadata": {},
   "outputs": [],
   "source": [
    "# creating a crosstab between Age and Department\n",
    "df_deptt_id_age=pd.crosstab(index=df_merge_final['department'],columns=df_merge_final['age_flag'],normalize='index')"
   ]
  },
  {
   "cell_type": "code",
   "execution_count": 74,
   "id": "31d80968",
   "metadata": {},
   "outputs": [
    {
     "data": {
      "text/html": [
       "<div>\n",
       "<style scoped>\n",
       "    .dataframe tbody tr th:only-of-type {\n",
       "        vertical-align: middle;\n",
       "    }\n",
       "\n",
       "    .dataframe tbody tr th {\n",
       "        vertical-align: top;\n",
       "    }\n",
       "\n",
       "    .dataframe thead th {\n",
       "        text-align: right;\n",
       "    }\n",
       "</style>\n",
       "<table border=\"1\" class=\"dataframe\">\n",
       "  <thead>\n",
       "    <tr style=\"text-align: right;\">\n",
       "      <th>age_flag</th>\n",
       "      <th>Middle-age</th>\n",
       "      <th>Senior</th>\n",
       "      <th>Young adult</th>\n",
       "    </tr>\n",
       "    <tr>\n",
       "      <th>department</th>\n",
       "      <th></th>\n",
       "      <th></th>\n",
       "      <th></th>\n",
       "    </tr>\n",
       "  </thead>\n",
       "  <tbody>\n",
       "    <tr>\n",
       "      <th>alcohol</th>\n",
       "      <td>0.387449</td>\n",
       "      <td>0.240248</td>\n",
       "      <td>0.372303</td>\n",
       "    </tr>\n",
       "    <tr>\n",
       "      <th>babies</th>\n",
       "      <td>0.396255</td>\n",
       "      <td>0.243375</td>\n",
       "      <td>0.360370</td>\n",
       "    </tr>\n",
       "    <tr>\n",
       "      <th>bakery</th>\n",
       "      <td>0.392446</td>\n",
       "      <td>0.248132</td>\n",
       "      <td>0.359422</td>\n",
       "    </tr>\n",
       "    <tr>\n",
       "      <th>beverages</th>\n",
       "      <td>0.392562</td>\n",
       "      <td>0.251287</td>\n",
       "      <td>0.356150</td>\n",
       "    </tr>\n",
       "    <tr>\n",
       "      <th>breakfast</th>\n",
       "      <td>0.392374</td>\n",
       "      <td>0.246459</td>\n",
       "      <td>0.361167</td>\n",
       "    </tr>\n",
       "    <tr>\n",
       "      <th>bulk</th>\n",
       "      <td>0.390467</td>\n",
       "      <td>0.249147</td>\n",
       "      <td>0.360386</td>\n",
       "    </tr>\n",
       "    <tr>\n",
       "      <th>canned goods</th>\n",
       "      <td>0.389344</td>\n",
       "      <td>0.248843</td>\n",
       "      <td>0.361812</td>\n",
       "    </tr>\n",
       "    <tr>\n",
       "      <th>dairy eggs</th>\n",
       "      <td>0.388987</td>\n",
       "      <td>0.249228</td>\n",
       "      <td>0.361785</td>\n",
       "    </tr>\n",
       "    <tr>\n",
       "      <th>deli</th>\n",
       "      <td>0.390807</td>\n",
       "      <td>0.249439</td>\n",
       "      <td>0.359754</td>\n",
       "    </tr>\n",
       "    <tr>\n",
       "      <th>dry goods pasta</th>\n",
       "      <td>0.389585</td>\n",
       "      <td>0.249794</td>\n",
       "      <td>0.360622</td>\n",
       "    </tr>\n",
       "    <tr>\n",
       "      <th>frozen</th>\n",
       "      <td>0.390809</td>\n",
       "      <td>0.250918</td>\n",
       "      <td>0.358273</td>\n",
       "    </tr>\n",
       "    <tr>\n",
       "      <th>household</th>\n",
       "      <td>0.389826</td>\n",
       "      <td>0.251860</td>\n",
       "      <td>0.358314</td>\n",
       "    </tr>\n",
       "    <tr>\n",
       "      <th>international</th>\n",
       "      <td>0.389300</td>\n",
       "      <td>0.247222</td>\n",
       "      <td>0.363478</td>\n",
       "    </tr>\n",
       "    <tr>\n",
       "      <th>meat seafood</th>\n",
       "      <td>0.389029</td>\n",
       "      <td>0.252990</td>\n",
       "      <td>0.357981</td>\n",
       "    </tr>\n",
       "    <tr>\n",
       "      <th>missing</th>\n",
       "      <td>0.389405</td>\n",
       "      <td>0.245832</td>\n",
       "      <td>0.364763</td>\n",
       "    </tr>\n",
       "    <tr>\n",
       "      <th>other</th>\n",
       "      <td>0.393633</td>\n",
       "      <td>0.242623</td>\n",
       "      <td>0.363744</td>\n",
       "    </tr>\n",
       "    <tr>\n",
       "      <th>pantry</th>\n",
       "      <td>0.391772</td>\n",
       "      <td>0.249646</td>\n",
       "      <td>0.358582</td>\n",
       "    </tr>\n",
       "    <tr>\n",
       "      <th>personal care</th>\n",
       "      <td>0.394608</td>\n",
       "      <td>0.246689</td>\n",
       "      <td>0.358703</td>\n",
       "    </tr>\n",
       "    <tr>\n",
       "      <th>pets</th>\n",
       "      <td>0.383784</td>\n",
       "      <td>0.256397</td>\n",
       "      <td>0.359819</td>\n",
       "    </tr>\n",
       "    <tr>\n",
       "      <th>produce</th>\n",
       "      <td>0.389568</td>\n",
       "      <td>0.249883</td>\n",
       "      <td>0.360549</td>\n",
       "    </tr>\n",
       "    <tr>\n",
       "      <th>snacks</th>\n",
       "      <td>0.389431</td>\n",
       "      <td>0.248873</td>\n",
       "      <td>0.361697</td>\n",
       "    </tr>\n",
       "  </tbody>\n",
       "</table>\n",
       "</div>"
      ],
      "text/plain": [
       "age_flag         Middle-age    Senior  Young adult\n",
       "department                                        \n",
       "alcohol            0.387449  0.240248     0.372303\n",
       "babies             0.396255  0.243375     0.360370\n",
       "bakery             0.392446  0.248132     0.359422\n",
       "beverages          0.392562  0.251287     0.356150\n",
       "breakfast          0.392374  0.246459     0.361167\n",
       "bulk               0.390467  0.249147     0.360386\n",
       "canned goods       0.389344  0.248843     0.361812\n",
       "dairy eggs         0.388987  0.249228     0.361785\n",
       "deli               0.390807  0.249439     0.359754\n",
       "dry goods pasta    0.389585  0.249794     0.360622\n",
       "frozen             0.390809  0.250918     0.358273\n",
       "household          0.389826  0.251860     0.358314\n",
       "international      0.389300  0.247222     0.363478\n",
       "meat seafood       0.389029  0.252990     0.357981\n",
       "missing            0.389405  0.245832     0.364763\n",
       "other              0.393633  0.242623     0.363744\n",
       "pantry             0.391772  0.249646     0.358582\n",
       "personal care      0.394608  0.246689     0.358703\n",
       "pets               0.383784  0.256397     0.359819\n",
       "produce            0.389568  0.249883     0.360549\n",
       "snacks             0.389431  0.248873     0.361697"
      ]
     },
     "execution_count": 74,
     "metadata": {},
     "output_type": "execute_result"
    }
   ],
   "source": [
    "df_deptt_id_age"
   ]
  },
  {
   "cell_type": "code",
   "execution_count": 75,
   "id": "d14dcbac",
   "metadata": {},
   "outputs": [
    {
     "data": {
      "image/png": "[encoded data removed]",
      "text/plain": [
       "<Figure size 432x288 with 1 Axes>"
      ]
     },
     "metadata": {
      "needs_background": "light"
     },
     "output_type": "display_data"
    }
   ],
   "source": [
    "df_deptt_id_age.plot.bar(color=sns.color_palette('Oranges_r',2))\n",
    "plt.title('Family PROFILE BY department',fontweight='bold')\n",
    "plt.show()"
   ]
  },
  {
   "cell_type": "markdown",
   "id": "747318a4",
   "metadata": {},
   "source": [
    "# INCOME"
   ]
  },
  {
   "cell_type": "code",
   "execution_count": 76,
   "id": "6d995129",
   "metadata": {},
   "outputs": [],
   "source": [
    "#profiling based on income\n",
    "df_merge_final.loc[df_merge_final['income']<=50000,'income_flag']='Low income'\n",
    "df_merge_final.loc[(df_merge_final['income']>50000) & (df_merge_final['income']<=120000),'income_flag']='Middle income'\n",
    "df_merge_final.loc[df_merge_final['income']>120000,'income_flag']='High income'"
   ]
  },
  {
   "cell_type": "code",
   "execution_count": 77,
   "id": "dc14a074",
   "metadata": {},
   "outputs": [
    {
     "data": {
      "text/plain": [
       "Middle-age     11928040\n",
       "Young adult    11007922\n",
       "Senior          7628281\n",
       "Name: age_flag, dtype: int64"
      ]
     },
     "execution_count": 77,
     "metadata": {},
     "output_type": "execute_result"
    }
   ],
   "source": [
    "# Check frequencies of INCOME_flags for accuracy\n",
    "df_merge_final['age_flag'].value_counts(dropna=False)"
   ]
  },
  {
   "cell_type": "code",
   "execution_count": 78,
   "id": "be7d19d7",
   "metadata": {},
   "outputs": [
    {
     "data": {
      "image/png": "[encoded data removed]",
      "text/plain": [
       "<Figure size 432x288 with 1 Axes>"
      ]
     },
     "metadata": {},
     "output_type": "display_data"
    }
   ],
   "source": [
    "#create a pie chart of INCOME variable\n",
    "income_profile=df_merge_final['income_flag'].value_counts().plot.pie(title='Income group',label='',autopct=('%1.f%%'))"
   ]
  },
  {
   "cell_type": "code",
   "execution_count": 79,
   "id": "483368bb",
   "metadata": {},
   "outputs": [],
   "source": [
    "# exporting the viz\n",
    "income_profile=income_profile.figure.savefig(os.path.join(path,'04-Analysis','Visualization','income_profile.png'))"
   ]
  },
  {
   "cell_type": "markdown",
   "id": "2270bcda",
   "metadata": {},
   "source": [
    "# Customer Profile by income And Region"
   ]
  },
  {
   "cell_type": "code",
   "execution_count": 80,
   "id": "d139aece",
   "metadata": {},
   "outputs": [],
   "source": [
    "# creating a crosstab between dependents and region\n",
    "region_income=pd.crosstab(df_merge_final['region'],df_merge_final['income_flag'],dropna=False)"
   ]
  },
  {
   "cell_type": "code",
   "execution_count": 81,
   "id": "10643d55",
   "metadata": {},
   "outputs": [
    {
     "data": {
      "text/html": [
       "<div>\n",
       "<style scoped>\n",
       "    .dataframe tbody tr th:only-of-type {\n",
       "        vertical-align: middle;\n",
       "    }\n",
       "\n",
       "    .dataframe tbody tr th {\n",
       "        vertical-align: top;\n",
       "    }\n",
       "\n",
       "    .dataframe thead th {\n",
       "        text-align: right;\n",
       "    }\n",
       "</style>\n",
       "<table border=\"1\" class=\"dataframe\">\n",
       "  <thead>\n",
       "    <tr style=\"text-align: right;\">\n",
       "      <th>income_flag</th>\n",
       "      <th>High income</th>\n",
       "      <th>Low income</th>\n",
       "      <th>Middle income</th>\n",
       "    </tr>\n",
       "    <tr>\n",
       "      <th>region</th>\n",
       "      <th></th>\n",
       "      <th></th>\n",
       "      <th></th>\n",
       "    </tr>\n",
       "  </thead>\n",
       "  <tbody>\n",
       "    <tr>\n",
       "      <th>Midwest</th>\n",
       "      <td>1773747</td>\n",
       "      <td>649787</td>\n",
       "      <td>3545233</td>\n",
       "    </tr>\n",
       "    <tr>\n",
       "      <th>Northeast</th>\n",
       "      <td>1247966</td>\n",
       "      <td>469130</td>\n",
       "      <td>2494429</td>\n",
       "    </tr>\n",
       "    <tr>\n",
       "      <th>South</th>\n",
       "      <td>2659324</td>\n",
       "      <td>987353</td>\n",
       "      <td>5342120</td>\n",
       "    </tr>\n",
       "    <tr>\n",
       "      <th>Unknown</th>\n",
       "      <td>1063385</td>\n",
       "      <td>402289</td>\n",
       "      <td>2104330</td>\n",
       "    </tr>\n",
       "    <tr>\n",
       "      <th>West</th>\n",
       "      <td>2289707</td>\n",
       "      <td>861048</td>\n",
       "      <td>4674395</td>\n",
       "    </tr>\n",
       "  </tbody>\n",
       "</table>\n",
       "</div>"
      ],
      "text/plain": [
       "income_flag  High income  Low income  Middle income\n",
       "region                                             \n",
       "Midwest          1773747      649787        3545233\n",
       "Northeast        1247966      469130        2494429\n",
       "South            2659324      987353        5342120\n",
       "Unknown          1063385      402289        2104330\n",
       "West             2289707      861048        4674395"
      ]
     },
     "execution_count": 81,
     "metadata": {},
     "output_type": "execute_result"
    }
   ],
   "source": [
    "region_income"
   ]
  },
  {
   "cell_type": "code",
   "execution_count": 82,
   "id": "fe52e9b1",
   "metadata": {},
   "outputs": [
    {
     "data": {
      "image/png": "[encoded data removed]",
      "text/plain": [
       "<Figure size 432x288 with 1 Axes>"
      ]
     },
     "metadata": {
      "needs_background": "light"
     },
     "output_type": "display_data"
    }
   ],
   "source": [
    "#creating bar chart\n",
    "region_income_fig = region_income.plot.bar(color=sns.color_palette('Purples',2))\n",
    "plt.title('INCOME PROFILE BY REGION',fontweight='bold')\n",
    "plt.show()"
   ]
  },
  {
   "cell_type": "code",
   "execution_count": 83,
   "id": "a8ad4e05",
   "metadata": {},
   "outputs": [],
   "source": [
    "# exporting the viz\n",
    "region_income_fig.figure.savefig(os.path.join(path,'04-Analysis','Visualization','region_income.png'))"
   ]
  },
  {
   "cell_type": "code",
   "execution_count": 84,
   "id": "6c5c650e",
   "metadata": {},
   "outputs": [
    {
     "data": {
      "text/html": [
       "<div>\n",
       "<style scoped>\n",
       "    .dataframe tbody tr th:only-of-type {\n",
       "        vertical-align: middle;\n",
       "    }\n",
       "\n",
       "    .dataframe tbody tr th {\n",
       "        vertical-align: top;\n",
       "    }\n",
       "\n",
       "    .dataframe thead tr th {\n",
       "        text-align: left;\n",
       "    }\n",
       "\n",
       "    .dataframe thead tr:last-of-type th {\n",
       "        text-align: right;\n",
       "    }\n",
       "</style>\n",
       "<table border=\"1\" class=\"dataframe\">\n",
       "  <thead>\n",
       "    <tr>\n",
       "      <th></th>\n",
       "      <th colspan=\"3\" halign=\"left\">days_since_prior_order</th>\n",
       "      <th colspan=\"3\" halign=\"left\">prices</th>\n",
       "    </tr>\n",
       "    <tr>\n",
       "      <th></th>\n",
       "      <th>max</th>\n",
       "      <th>mean</th>\n",
       "      <th>min</th>\n",
       "      <th>max</th>\n",
       "      <th>mean</th>\n",
       "      <th>min</th>\n",
       "    </tr>\n",
       "    <tr>\n",
       "      <th>income_flag</th>\n",
       "      <th></th>\n",
       "      <th></th>\n",
       "      <th></th>\n",
       "      <th></th>\n",
       "      <th></th>\n",
       "      <th></th>\n",
       "    </tr>\n",
       "  </thead>\n",
       "  <tbody>\n",
       "    <tr>\n",
       "      <th>High income</th>\n",
       "      <td>30.0</td>\n",
       "      <td>11.065565</td>\n",
       "      <td>0.0</td>\n",
       "      <td>99999.0</td>\n",
       "      <td>20.186593</td>\n",
       "      <td>1.0</td>\n",
       "    </tr>\n",
       "    <tr>\n",
       "      <th>Low income</th>\n",
       "      <td>30.0</td>\n",
       "      <td>11.651906</td>\n",
       "      <td>0.0</td>\n",
       "      <td>25.0</td>\n",
       "      <td>6.698356</td>\n",
       "      <td>1.0</td>\n",
       "    </tr>\n",
       "    <tr>\n",
       "      <th>Middle income</th>\n",
       "      <td>30.0</td>\n",
       "      <td>11.089369</td>\n",
       "      <td>0.0</td>\n",
       "      <td>99999.0</td>\n",
       "      <td>8.867956</td>\n",
       "      <td>1.0</td>\n",
       "    </tr>\n",
       "  </tbody>\n",
       "</table>\n",
       "</div>"
      ],
      "text/plain": [
       "              days_since_prior_order                   prices                \n",
       "                                 max       mean  min      max       mean  min\n",
       "income_flag                                                                  \n",
       "High income                     30.0  11.065565  0.0  99999.0  20.186593  1.0\n",
       "Low income                      30.0  11.651906  0.0     25.0   6.698356  1.0\n",
       "Middle income                   30.0  11.089369  0.0  99999.0   8.867956  1.0"
      ]
     },
     "execution_count": 84,
     "metadata": {},
     "output_type": "execute_result"
    }
   ],
   "source": [
    "# income statistics\n",
    "df_merge_final.groupby(['income_flag']).agg({'days_since_prior_order':['max','mean','min'],'prices':['max','mean','min']})"
   ]
  },
  {
   "cell_type": "markdown",
   "id": "85009803",
   "metadata": {},
   "source": [
    "# Customer Profile by income And Department_id"
   ]
  },
  {
   "cell_type": "code",
   "execution_count": 85,
   "id": "98ccde10",
   "metadata": {},
   "outputs": [],
   "source": [
    "# exporting the viz\n",
    "region_income_fig.figure.savefig(os.path.join(path,'04-Analysis','Visualization','region_income.png'))"
   ]
  },
  {
   "cell_type": "code",
   "execution_count": 86,
   "id": "eda090c6",
   "metadata": {},
   "outputs": [],
   "source": [
    "df_deptt_id_income=pd.crosstab(index=df_merge_final['department'],columns=df_merge_final['income_flag'],normalize='index')"
   ]
  },
  {
   "cell_type": "code",
   "execution_count": 108,
   "id": "c37d9fd5",
   "metadata": {},
   "outputs": [
    {
     "data": {
      "image/png": "[encoded data removed]",
      "text/plain": [
       "<Figure size 432x288 with 1 Axes>"
      ]
     },
     "metadata": {
      "needs_background": "light"
     },
     "output_type": "display_data"
    }
   ],
   "source": [
    "df_deptt_id_income.plot.bar(color=sns.color_palette('Purples_r',2))\n",
    "plt.title('Income PROFILE BY department',fontweight='bold')\n",
    "plt.show()"
   ]
  },
  {
   "cell_type": "markdown",
   "id": "4a3a1242",
   "metadata": {},
   "source": [
    "# DEPENDENTS"
   ]
  },
  {
   "cell_type": "code",
   "execution_count": 89,
   "id": "90e5223e",
   "metadata": {},
   "outputs": [],
   "source": [
    "#profiling based on DEPENDENTS\n",
    "df_merge_final.loc[df_merge_final['n_dependants']==0,'family_flag']='Single'\n",
    "df_merge_final.loc[df_merge_final['n_dependants']>0,'family_flag']='Family'"
   ]
  },
  {
   "cell_type": "code",
   "execution_count": 90,
   "id": "828c9f03",
   "metadata": {},
   "outputs": [
    {
     "data": {
      "text/plain": [
       "Middle-age     11928040\n",
       "Young adult    11007922\n",
       "Senior          7628281\n",
       "Name: age_flag, dtype: int64"
      ]
     },
     "execution_count": 90,
     "metadata": {},
     "output_type": "execute_result"
    }
   ],
   "source": [
    "# Check frequencies of age_flags for accuracy\n",
    "df_merge_final['age_flag'].value_counts(dropna=False)"
   ]
  },
  {
   "cell_type": "code",
   "execution_count": 93,
   "id": "5e1b9399",
   "metadata": {},
   "outputs": [
    {
     "data": {
      "image/png": "[encoded data removed]",
      "text/plain": [
       "<Figure size 432x288 with 1 Axes>"
      ]
     },
     "metadata": {},
     "output_type": "display_data"
    }
   ],
   "source": [
    "#create a pie chart of Dependent variable\n",
    "dependent_profile=df_merge_final['family_flag'].value_counts().plot.pie(title='dependent group',label='',autopct=('%1.f%%'))"
   ]
  },
  {
   "cell_type": "code",
   "execution_count": 94,
   "id": "12fdb8c2",
   "metadata": {},
   "outputs": [],
   "source": [
    "# exporting the viz\n",
    "dependent_profile.figure.savefig(os.path.join(path,'04-Analysis','Visualization','dependent_profile.png'))"
   ]
  },
  {
   "cell_type": "markdown",
   "id": "9601948e",
   "metadata": {},
   "source": [
    "# Customer Profile by Dependent And Region"
   ]
  },
  {
   "cell_type": "code",
   "execution_count": 95,
   "id": "70d74d31",
   "metadata": {},
   "outputs": [],
   "source": [
    "# creating a crosstab between dependents and region\n",
    "region_dependent=pd.crosstab(df_merge_final['region'],df_merge_final['family_flag'],dropna=False)"
   ]
  },
  {
   "cell_type": "code",
   "execution_count": 96,
   "id": "828ad2b6",
   "metadata": {},
   "outputs": [
    {
     "data": {
      "text/html": [
       "<div>\n",
       "<style scoped>\n",
       "    .dataframe tbody tr th:only-of-type {\n",
       "        vertical-align: middle;\n",
       "    }\n",
       "\n",
       "    .dataframe tbody tr th {\n",
       "        vertical-align: top;\n",
       "    }\n",
       "\n",
       "    .dataframe thead th {\n",
       "        text-align: right;\n",
       "    }\n",
       "</style>\n",
       "<table border=\"1\" class=\"dataframe\">\n",
       "  <thead>\n",
       "    <tr style=\"text-align: right;\">\n",
       "      <th>family_flag</th>\n",
       "      <th>Family</th>\n",
       "      <th>Single</th>\n",
       "    </tr>\n",
       "    <tr>\n",
       "      <th>region</th>\n",
       "      <th></th>\n",
       "      <th></th>\n",
       "    </tr>\n",
       "  </thead>\n",
       "  <tbody>\n",
       "    <tr>\n",
       "      <th>Midwest</th>\n",
       "      <td>4475204</td>\n",
       "      <td>1493563</td>\n",
       "    </tr>\n",
       "    <tr>\n",
       "      <th>Northeast</th>\n",
       "      <td>3162780</td>\n",
       "      <td>1048745</td>\n",
       "    </tr>\n",
       "    <tr>\n",
       "      <th>South</th>\n",
       "      <td>6733833</td>\n",
       "      <td>2254964</td>\n",
       "    </tr>\n",
       "    <tr>\n",
       "      <th>Unknown</th>\n",
       "      <td>2677652</td>\n",
       "      <td>892352</td>\n",
       "    </tr>\n",
       "    <tr>\n",
       "      <th>West</th>\n",
       "      <td>5876179</td>\n",
       "      <td>1948971</td>\n",
       "    </tr>\n",
       "  </tbody>\n",
       "</table>\n",
       "</div>"
      ],
      "text/plain": [
       "family_flag   Family   Single\n",
       "region                       \n",
       "Midwest      4475204  1493563\n",
       "Northeast    3162780  1048745\n",
       "South        6733833  2254964\n",
       "Unknown      2677652   892352\n",
       "West         5876179  1948971"
      ]
     },
     "execution_count": 96,
     "metadata": {},
     "output_type": "execute_result"
    }
   ],
   "source": [
    "region_dependent"
   ]
  },
  {
   "cell_type": "code",
   "execution_count": 97,
   "id": "ab733c9a",
   "metadata": {},
   "outputs": [
    {
     "data": {
      "image/png": "[encoded data removed]",
      "text/plain": [
       "<Figure size 432x288 with 1 Axes>"
      ]
     },
     "metadata": {
      "needs_background": "light"
     },
     "output_type": "display_data"
    }
   ],
   "source": [
    "#creating bar chart\n",
    "region_dependent_fig = region_dependent.plot.bar(color=sns.color_palette('Greens_r',2))\n",
    "plt.title('Dependent PROFILE BY REGION',fontweight='bold')\n",
    "plt.show()"
   ]
  },
  {
   "cell_type": "code",
   "execution_count": 101,
   "id": "145f5931",
   "metadata": {},
   "outputs": [],
   "source": [
    "# exporting the viz\n",
    "region_dependent_fig.figure.savefig(os.path.join(path,'04-Analysis','Visualization','region_dependent.png'))"
   ]
  },
  {
   "cell_type": "code",
   "execution_count": 102,
   "id": "f1f2b024",
   "metadata": {},
   "outputs": [
    {
     "name": "stdout",
     "output_type": "stream",
     "text": [
      "<class 'pandas.core.frame.DataFrame'>\n",
      "Int64Index: 30564243 entries, 0 to 30564242\n",
      "Data columns (total 36 columns):\n",
      " #   Column                  Dtype   \n",
      "---  ------                  -----   \n",
      " 0   user_id                 int64   \n",
      " 1   sex                     object  \n",
      " 2   STATE                   object  \n",
      " 3   age                     int64   \n",
      " 4   date_joined             object  \n",
      " 5   n_dependants            int64   \n",
      " 6   fam_status              object  \n",
      " 7   income                  int64   \n",
      " 8   Unnamed: 0_x            float64 \n",
      " 9   order_id                float64 \n",
      " 10  order_number            float64 \n",
      " 11  orders_day_of_week      float64 \n",
      " 12  order_hour_of_day       float64 \n",
      " 13  days_since_prior_order  float64 \n",
      " 14  product_id              float64 \n",
      " 15  add_to_cart_order       float64 \n",
      " 16  reordered               float64 \n",
      " 17  Unnamed: 0_y            float64 \n",
      " 18  product_name            object  \n",
      " 19  aisle_id                float64 \n",
      " 20  department_id           float64 \n",
      " 21  prices                  float64 \n",
      " 22  busiest_day             object  \n",
      " 23  busiest_days            object  \n",
      " 24  busiest_period_of_day   object  \n",
      " 25  max_order               float64 \n",
      " 26  loyalty_flag            object  \n",
      " 27  mean_price              float64 \n",
      " 28  spending_flag           object  \n",
      " 29  median_days             float64 \n",
      " 30  frequency_flag          object  \n",
      " 31  _merge                  category\n",
      " 32  region                  object  \n",
      " 33  exclusion_flag          object  \n",
      " 34  age_flag                object  \n",
      " 35  income_flag             object  \n",
      "dtypes: category(1), float64(16), int64(4), object(15)\n",
      "memory usage: 8.2+ GB\n"
     ]
    }
   ],
   "source": [
    "\n",
    "df_merge.info()"
   ]
  },
  {
   "cell_type": "code",
   "execution_count": 104,
   "id": "23af891b",
   "metadata": {},
   "outputs": [],
   "source": [
    "# Dependent statistics\n",
    "dependent_sums=df_merge_final.groupby(['family_flag']).agg({'days_since_prior_order':['max','mean'],'prices':['max','mean','sum']})"
   ]
  },
  {
   "cell_type": "code",
   "execution_count": 105,
   "id": "f2f29915",
   "metadata": {},
   "outputs": [
    {
     "data": {
      "text/html": [
       "<div>\n",
       "<style scoped>\n",
       "    .dataframe tbody tr th:only-of-type {\n",
       "        vertical-align: middle;\n",
       "    }\n",
       "\n",
       "    .dataframe tbody tr th {\n",
       "        vertical-align: top;\n",
       "    }\n",
       "\n",
       "    .dataframe thead tr th {\n",
       "        text-align: left;\n",
       "    }\n",
       "\n",
       "    .dataframe thead tr:last-of-type th {\n",
       "        text-align: right;\n",
       "    }\n",
       "</style>\n",
       "<table border=\"1\" class=\"dataframe\">\n",
       "  <thead>\n",
       "    <tr>\n",
       "      <th></th>\n",
       "      <th colspan=\"2\" halign=\"left\">days_since_prior_order</th>\n",
       "      <th colspan=\"3\" halign=\"left\">prices</th>\n",
       "    </tr>\n",
       "    <tr>\n",
       "      <th></th>\n",
       "      <th>max</th>\n",
       "      <th>mean</th>\n",
       "      <th>max</th>\n",
       "      <th>mean</th>\n",
       "      <th>sum</th>\n",
       "    </tr>\n",
       "    <tr>\n",
       "      <th>family_flag</th>\n",
       "      <th></th>\n",
       "      <th></th>\n",
       "      <th></th>\n",
       "      <th></th>\n",
       "      <th></th>\n",
       "    </tr>\n",
       "  </thead>\n",
       "  <tbody>\n",
       "    <tr>\n",
       "      <th>Family</th>\n",
       "      <td>30.0</td>\n",
       "      <td>11.152132</td>\n",
       "      <td>99999.0</td>\n",
       "      <td>11.930153</td>\n",
       "      <td>271412959.5</td>\n",
       "    </tr>\n",
       "    <tr>\n",
       "      <th>Single</th>\n",
       "      <td>30.0</td>\n",
       "      <td>11.120996</td>\n",
       "      <td>99999.0</td>\n",
       "      <td>12.117885</td>\n",
       "      <td>91849631.7</td>\n",
       "    </tr>\n",
       "  </tbody>\n",
       "</table>\n",
       "</div>"
      ],
      "text/plain": [
       "            days_since_prior_order              prices                        \n",
       "                               max       mean      max       mean          sum\n",
       "family_flag                                                                   \n",
       "Family                        30.0  11.152132  99999.0  11.930153  271412959.5\n",
       "Single                        30.0  11.120996  99999.0  12.117885   91849631.7"
      ]
     },
     "execution_count": 105,
     "metadata": {},
     "output_type": "execute_result"
    }
   ],
   "source": [
    "dependent_sums"
   ]
  },
  {
   "cell_type": "code",
   "execution_count": 109,
   "id": "2b00884e",
   "metadata": {},
   "outputs": [],
   "source": [
    "df_deptt_id_family=pd.crosstab(index=df_merge_final['department'],columns=df_merge_final['family_flag'],normalize='index')\n"
   ]
  },
  {
   "cell_type": "code",
   "execution_count": 112,
   "id": "1743f4cc",
   "metadata": {},
   "outputs": [
    {
     "data": {
      "image/png": "[encoded data removed]",
      "text/plain": [
       "<Figure size 432x288 with 1 Axes>"
      ]
     },
     "metadata": {
      "needs_background": "light"
     },
     "output_type": "display_data"
    }
   ],
   "source": [
    "dependant_department_fig=df_deptt_id_family.plot.bar(color=sns.color_palette('Greens',2))\n",
    "plt.title('Dependant PROFILE BY department',fontweight='bold')\n",
    "plt.show()"
   ]
  },
  {
   "cell_type": "code",
   "execution_count": 113,
   "id": "efa2c129",
   "metadata": {},
   "outputs": [],
   "source": [
    "# exporting the viz\n",
    "dependant_department_fig.figure.savefig(os.path.join(path,'04-Analysis','Visualization','dependant_department.png'))"
   ]
  },
  {
   "cell_type": "code",
   "execution_count": 117,
   "id": "7749c9a4",
   "metadata": {},
   "outputs": [],
   "source": [
    "df_merge_final.to_pickle(os.path.join(path, '02-Data','Prepared-Data', 'Instacart_Basket_merged_final.pkl'))"
   ]
  },
  {
   "cell_type": "code",
   "execution_count": null,
   "id": "831980cf",
   "metadata": {},
   "outputs": [],
   "source": []
  }
 ],
 "metadata": {
  "kernelspec": {
   "display_name": "Python 3 (ipykernel)",
   "language": "python",
   "name": "python3"
  },
  "language_info": {
   "codemirror_mode": {
    "name": "ipython",
    "version": 3
   },
   "file_extension": ".py",
   "mimetype": "text/x-python",
   "name": "python",
   "nbconvert_exporter": "python",
   "pygments_lexer": "ipython3",
   "version": "3.9.12"
  }
 },
 "nbformat": 4,
 "nbformat_minor": 5
}
